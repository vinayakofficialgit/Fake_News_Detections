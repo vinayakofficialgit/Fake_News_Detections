{
 "cells": [
  {
   "cell_type": "markdown",
   "metadata": {
    "id": "rhR-ZUkwJrFn"
   },
   "source": [
    "# Fake News Detection\n",
    "\n",
    "\n"
   ]
  },
  {
   "cell_type": "markdown",
   "metadata": {
    "id": "hXeHUV5fJGiZ"
   },
   "source": [
    "## Objective\n"
   ]
  },
  {
   "cell_type": "markdown",
   "metadata": {
    "id": "kX73YZdgJIgF"
   },
   "source": [
    "The objective of this assignment is to develop a Semantic Classification model. You will be using Word2Vec method to extract the semantic relations from the text and develop a basic understanding of how to train supervised models to categorise text based on its meaning, rather than just syntax. You will explore how this technique is used in situations where understanding textual meaning plays a critical role in making accurate and efficient decisions.\n"
   ]
  },
  {
   "cell_type": "markdown",
   "metadata": {
    "id": "Gg_J6K8Xxfk2"
   },
   "source": [
    "## Business Objective\n",
    "\n",
    "The spread of fake news has become a significant challenge in today’s digital world. With the massive volume of news articles published daily, it’s becoming harder to distinguish between credible and misleading information. This creates a need for systems that can automatically classify news articles as true or fake, helping to reduce misinformation and protect public trust.\n",
    "\n",
    "\n",
    "In this assignment, you will develop a Semantic Classification model that uses the Word2Vec method to detect recurring patterns and themes in news articles. Using supervised learning models, the goal is to build a system that classifies news articles as either fake or true.\n"
   ]
  },
  {
   "cell_type": "markdown",
   "metadata": {
    "id": "ySqxOckxI4-F"
   },
   "source": [
    "<h2> Pipelines that needs to be performed </h2>\n",
    "\n",
    "You need to perform the following tasks to complete the assignment:\n",
    "\n",
    "<ol type=\"1\">\n",
    "\n",
    "  <li> Data Preparation\n",
    "  <li> Text Preprocessing\n",
    "  <li> Train Validation Split\n",
    "  <li> EDA on Training Data\n",
    "  <li> EDA on Validation Data [Optional]\n",
    "  <li> Feature Extraction\n",
    "  <li> Model Training and Evaluation\n",
    "\n",
    "</ol>"
   ]
  },
  {
   "cell_type": "markdown",
   "metadata": {
    "id": "gTxV-3GJUhWm"
   },
   "source": [
    "---"
   ]
  },
  {
   "cell_type": "markdown",
   "metadata": {
    "id": "ofebI8ITG-Li"
   },
   "source": [
    "**NOTE:** The marks given along with headings and sub-headings are cumulative marks for those particular headings/sub-headings.<br>\n",
    "\n",
    "The actual marks for each task are specified within the tasks themselves.\n",
    "\n",
    "For example, marks given with heading *2* or sub-heading *2.1* are the cumulative marks, for your reference only. <br>\n",
    "\n",
    "The marks you will receive for completing tasks are given with the tasks.\n",
    "\n",
    "Suppose the marks for two tasks are: 3 marks for 2.1.1 and 2 marks for 3.2.2, or\n",
    "* 2.1.1 [3 marks]\n",
    "* 3.2.2 [2 marks]\n",
    "\n",
    "then, you will earn 3 marks for completing task 2.1.1 and 2 marks for completing task 3.2.2.\n"
   ]
  },
  {
   "cell_type": "markdown",
   "metadata": {
    "id": "YdQjht7dUiHt"
   },
   "source": [
    "---"
   ]
  },
  {
   "cell_type": "markdown",
   "metadata": {
    "id": "8b1lNTpKF54T"
   },
   "source": [
    "## Data Dictionary\n"
   ]
  },
  {
   "cell_type": "markdown",
   "metadata": {
    "id": "43j_A_GsI9TS"
   },
   "source": [
    "For this assignment, you will work with two datasets, `True.csv` and `Fake.csv`.\n",
    "Both datasets contain three columns:\n",
    "<ul>\n",
    "  <li> title of the news article\n",
    "  <li> text of the news article\n",
    "  <li> date of article publication\n",
    "</ul>\n",
    "\n",
    "`True.csv` dataset includes 21,417 true news, while the `Fake.csv` dataset comprises 23,502 fake news."
   ]
  },
  {
   "cell_type": "markdown",
   "metadata": {
    "id": "_oTQwQ_Rh4nT"
   },
   "source": [
    "## Installing required Libraries"
   ]
  },
  {
   "cell_type": "code",
   "execution_count": 1,
   "metadata": {
    "id": "lIY57QOLiCA2",
    "scrolled": true
   },
   "outputs": [
    {
     "name": "stdout",
     "output_type": "stream",
     "text": [
      "Defaulting to user installation because normal site-packages is not writeable\n",
      "\u001b[31mERROR: Could not find a version that satisfies the requirement numpy==1.26.4 (from versions: 1.3.0, 1.4.1, 1.5.0, 1.5.1, 1.6.0, 1.6.1, 1.6.2, 1.7.0, 1.7.1, 1.7.2, 1.8.0, 1.8.1, 1.8.2, 1.9.0, 1.9.1, 1.9.2, 1.9.3, 1.10.0.post2, 1.10.1, 1.10.2, 1.10.4, 1.11.0, 1.11.1, 1.11.2, 1.11.3, 1.12.0, 1.12.1, 1.13.0, 1.13.1, 1.13.3, 1.14.0, 1.14.1, 1.14.2, 1.14.3, 1.14.4, 1.14.5, 1.14.6, 1.15.0, 1.15.1, 1.15.2, 1.15.3, 1.15.4, 1.16.0, 1.16.1, 1.16.2, 1.16.3, 1.16.4, 1.16.5, 1.16.6, 1.17.0, 1.17.1, 1.17.2, 1.17.3, 1.17.4, 1.17.5, 1.18.0, 1.18.1, 1.18.2, 1.18.3, 1.18.4, 1.18.5, 1.19.0, 1.19.1, 1.19.2, 1.19.3, 1.19.4, 1.19.5, 1.20.0, 1.20.1, 1.20.2, 1.20.3, 1.21.0, 1.21.1, 1.21.2, 1.21.3, 1.21.4, 1.21.5, 1.21.6, 1.22.0, 1.22.1, 1.22.2, 1.22.3, 1.22.4, 1.23.0, 1.23.1, 1.23.2, 1.23.3, 1.23.4, 1.23.5, 1.24.0, 1.24.1, 1.24.2, 1.24.3, 1.24.4)\u001b[0m\u001b[31m\n",
      "\u001b[0m\u001b[31mERROR: No matching distribution found for numpy==1.26.4\u001b[0m\u001b[31m\n",
      "Defaulting to user installation because normal site-packages is not writeable\n",
      "\u001b[31mERROR: Could not find a version that satisfies the requirement pandas==2.2.2 (from versions: 0.1, 0.2, 0.3.0, 0.4.0, 0.4.1, 0.4.2, 0.4.3, 0.5.0, 0.6.0, 0.6.1, 0.7.0, 0.7.1, 0.7.2, 0.7.3, 0.8.0, 0.8.1, 0.9.0, 0.9.1, 0.10.0, 0.10.1, 0.11.0, 0.12.0, 0.13.0, 0.13.1, 0.14.0, 0.14.1, 0.15.0, 0.15.1, 0.15.2, 0.16.0, 0.16.1, 0.16.2, 0.17.0, 0.17.1, 0.18.0, 0.18.1, 0.19.0, 0.19.1, 0.19.2, 0.20.0, 0.20.1, 0.20.2, 0.20.3, 0.21.0, 0.21.1, 0.22.0, 0.23.0, 0.23.1, 0.23.2, 0.23.3, 0.23.4, 0.24.0, 0.24.1, 0.24.2, 0.25.0, 0.25.1, 0.25.2, 0.25.3, 1.0.0, 1.0.1, 1.0.2, 1.0.3, 1.0.4, 1.0.5, 1.1.0, 1.1.1, 1.1.2, 1.1.3, 1.1.4, 1.1.5, 1.2.0, 1.2.1, 1.2.2, 1.2.3, 1.2.4, 1.2.5, 1.3.0, 1.3.1, 1.3.2, 1.3.3, 1.3.4, 1.3.5, 1.4.0rc0, 1.4.0, 1.4.1, 1.4.2, 1.4.3, 1.4.4, 1.5.0rc0, 1.5.0, 1.5.1, 1.5.2, 1.5.3, 2.0.0rc0, 2.0.0rc1, 2.0.0, 2.0.1, 2.0.2, 2.0.3)\u001b[0m\u001b[31m\n",
      "\u001b[0m\u001b[31mERROR: No matching distribution found for pandas==2.2.2\u001b[0m\u001b[31m\n",
      "Defaulting to user installation because normal site-packages is not writeable\n",
      "Requirement already satisfied: nltk==3.9.1 in /home/deq/.local/lib/python3.8/site-packages (3.9.1)\n",
      "Requirement already satisfied: click in /home/deq/.local/lib/python3.8/site-packages (from nltk==3.9.1) (8.1.8)\n",
      "Requirement already satisfied: joblib in /home/deq/.local/lib/python3.8/site-packages (from nltk==3.9.1) (1.4.2)\n",
      "Requirement already satisfied: regex>=2021.8.3 in /home/deq/.local/lib/python3.8/site-packages (from nltk==3.9.1) (2024.11.6)\n",
      "Requirement already satisfied: tqdm in /home/deq/.local/lib/python3.8/site-packages (from nltk==3.9.1) (4.67.1)\n",
      "Defaulting to user installation because normal site-packages is not writeable\n",
      "Requirement already satisfied: spacy==3.7.5 in /home/deq/.local/lib/python3.8/site-packages (3.7.5)\n",
      "Requirement already satisfied: spacy-legacy<3.1.0,>=3.0.11 in /home/deq/.local/lib/python3.8/site-packages (from spacy==3.7.5) (3.0.12)\n",
      "Requirement already satisfied: spacy-loggers<2.0.0,>=1.0.0 in /home/deq/.local/lib/python3.8/site-packages (from spacy==3.7.5) (1.0.5)\n",
      "Requirement already satisfied: murmurhash<1.1.0,>=0.28.0 in /home/deq/.local/lib/python3.8/site-packages (from spacy==3.7.5) (1.0.13)\n",
      "Requirement already satisfied: cymem<2.1.0,>=2.0.2 in /home/deq/.local/lib/python3.8/site-packages (from spacy==3.7.5) (2.0.11)\n",
      "Requirement already satisfied: preshed<3.1.0,>=3.0.2 in /home/deq/.local/lib/python3.8/site-packages (from spacy==3.7.5) (3.0.10)\n",
      "Requirement already satisfied: thinc<8.3.0,>=8.2.2 in /home/deq/.local/lib/python3.8/site-packages (from spacy==3.7.5) (8.2.5)\n",
      "Requirement already satisfied: wasabi<1.2.0,>=0.9.1 in /home/deq/.local/lib/python3.8/site-packages (from spacy==3.7.5) (1.1.3)\n",
      "Requirement already satisfied: srsly<3.0.0,>=2.4.3 in /home/deq/.local/lib/python3.8/site-packages (from spacy==3.7.5) (2.4.8)\n",
      "Requirement already satisfied: catalogue<2.1.0,>=2.0.6 in /home/deq/.local/lib/python3.8/site-packages (from spacy==3.7.5) (2.0.10)\n",
      "Requirement already satisfied: weasel<0.5.0,>=0.1.0 in /home/deq/.local/lib/python3.8/site-packages (from spacy==3.7.5) (0.4.1)\n",
      "Requirement already satisfied: typer<1.0.0,>=0.3.0 in /home/deq/.local/lib/python3.8/site-packages (from spacy==3.7.5) (0.9.4)\n",
      "Requirement already satisfied: tqdm<5.0.0,>=4.38.0 in /home/deq/.local/lib/python3.8/site-packages (from spacy==3.7.5) (4.67.1)\n",
      "Requirement already satisfied: requests<3.0.0,>=2.13.0 in /home/deq/.local/lib/python3.8/site-packages (from spacy==3.7.5) (2.32.3)\n",
      "Requirement already satisfied: pydantic!=1.8,!=1.8.1,<3.0.0,>=1.7.4 in /home/deq/.local/lib/python3.8/site-packages (from spacy==3.7.5) (2.10.5)\n",
      "Requirement already satisfied: jinja2 in /home/deq/.local/lib/python3.8/site-packages (from spacy==3.7.5) (3.1.4)\n",
      "Requirement already satisfied: setuptools in /home/deq/.local/lib/python3.8/site-packages (from spacy==3.7.5) (75.3.2)\n",
      "Requirement already satisfied: packaging>=20.0 in /home/deq/.local/lib/python3.8/site-packages (from spacy==3.7.5) (24.2)\n",
      "Requirement already satisfied: langcodes<4.0.0,>=3.2.0 in /home/deq/.local/lib/python3.8/site-packages (from spacy==3.7.5) (3.4.1)\n",
      "Requirement already satisfied: numpy>=1.15.0 in /home/deq/.local/lib/python3.8/site-packages (from spacy==3.7.5) (1.24.4)\n",
      "Requirement already satisfied: language-data>=1.2 in /home/deq/.local/lib/python3.8/site-packages (from langcodes<4.0.0,>=3.2.0->spacy==3.7.5) (1.3.0)\n",
      "Requirement already satisfied: annotated-types>=0.6.0 in /home/deq/.local/lib/python3.8/site-packages (from pydantic!=1.8,!=1.8.1,<3.0.0,>=1.7.4->spacy==3.7.5) (0.7.0)\n",
      "Requirement already satisfied: pydantic-core==2.27.2 in /home/deq/.local/lib/python3.8/site-packages (from pydantic!=1.8,!=1.8.1,<3.0.0,>=1.7.4->spacy==3.7.5) (2.27.2)\n",
      "Requirement already satisfied: typing-extensions>=4.12.2 in /home/deq/.local/lib/python3.8/site-packages (from pydantic!=1.8,!=1.8.1,<3.0.0,>=1.7.4->spacy==3.7.5) (4.12.2)\n",
      "Requirement already satisfied: charset-normalizer<4,>=2 in /home/deq/.local/lib/python3.8/site-packages (from requests<3.0.0,>=2.13.0->spacy==3.7.5) (3.4.0)\n",
      "Requirement already satisfied: idna<4,>=2.5 in /usr/lib/python3/dist-packages (from requests<3.0.0,>=2.13.0->spacy==3.7.5) (2.8)\n",
      "Requirement already satisfied: urllib3<3,>=1.21.1 in /usr/lib/python3/dist-packages (from requests<3.0.0,>=2.13.0->spacy==3.7.5) (1.25.8)\n",
      "Requirement already satisfied: certifi>=2017.4.17 in /usr/lib/python3/dist-packages (from requests<3.0.0,>=2.13.0->spacy==3.7.5) (2019.11.28)\n",
      "Requirement already satisfied: blis<0.8.0,>=0.7.8 in /home/deq/.local/lib/python3.8/site-packages (from thinc<8.3.0,>=8.2.2->spacy==3.7.5) (0.7.11)\n",
      "Requirement already satisfied: confection<1.0.0,>=0.0.1 in /home/deq/.local/lib/python3.8/site-packages (from thinc<8.3.0,>=8.2.2->spacy==3.7.5) (0.1.5)\n",
      "Requirement already satisfied: click<9.0.0,>=7.1.1 in /home/deq/.local/lib/python3.8/site-packages (from typer<1.0.0,>=0.3.0->spacy==3.7.5) (8.1.8)\n",
      "Requirement already satisfied: cloudpathlib<1.0.0,>=0.7.0 in /home/deq/.local/lib/python3.8/site-packages (from weasel<0.5.0,>=0.1.0->spacy==3.7.5) (0.20.0)\n",
      "Requirement already satisfied: smart-open<8.0.0,>=5.2.1 in /home/deq/.local/lib/python3.8/site-packages (from weasel<0.5.0,>=0.1.0->spacy==3.7.5) (6.4.0)\n",
      "Requirement already satisfied: MarkupSafe>=2.0 in /home/deq/.local/lib/python3.8/site-packages (from jinja2->spacy==3.7.5) (2.1.5)\n",
      "Requirement already satisfied: marisa-trie>=1.1.0 in /home/deq/.local/lib/python3.8/site-packages (from language-data>=1.2->langcodes<4.0.0,>=3.2.0->spacy==3.7.5) (1.2.1)\n",
      "Defaulting to user installation because normal site-packages is not writeable\n",
      "\u001b[31mERROR: Could not find a version that satisfies the requirement scipy==1.12 (from versions: 0.8.0, 0.9.0, 0.10.0, 0.10.1, 0.11.0, 0.12.0, 0.12.1, 0.13.0, 0.13.1, 0.13.2, 0.13.3, 0.14.0, 0.14.1, 0.15.0, 0.15.1, 0.16.0, 0.16.1, 0.17.0, 0.17.1, 0.18.0, 0.18.1, 0.19.0, 0.19.1, 1.0.0, 1.0.1, 1.1.0, 1.2.0, 1.2.1, 1.2.2, 1.2.3, 1.3.0, 1.3.1, 1.3.2, 1.3.3, 1.4.0, 1.4.1, 1.5.0, 1.5.1, 1.5.2, 1.5.3, 1.5.4, 1.6.0, 1.6.1, 1.6.2, 1.6.3, 1.7.0, 1.7.1, 1.7.2, 1.7.3, 1.8.0rc1, 1.8.0rc2, 1.8.0rc3, 1.8.0rc4, 1.8.0, 1.8.1, 1.9.0rc1, 1.9.0rc2, 1.9.0rc3, 1.9.0, 1.9.1, 1.9.2, 1.9.3, 1.10.0rc1, 1.10.0rc2, 1.10.0, 1.10.1)\u001b[0m\u001b[31m\n",
      "\u001b[0m\u001b[31mERROR: No matching distribution found for scipy==1.12\u001b[0m\u001b[31m\n",
      "Defaulting to user installation because normal site-packages is not writeable\n",
      "Requirement already satisfied: pydantic==2.10.5 in /home/deq/.local/lib/python3.8/site-packages (2.10.5)\n",
      "Requirement already satisfied: annotated-types>=0.6.0 in /home/deq/.local/lib/python3.8/site-packages (from pydantic==2.10.5) (0.7.0)\n",
      "Requirement already satisfied: pydantic-core==2.27.2 in /home/deq/.local/lib/python3.8/site-packages (from pydantic==2.10.5) (2.27.2)\n",
      "Requirement already satisfied: typing-extensions>=4.12.2 in /home/deq/.local/lib/python3.8/site-packages (from pydantic==2.10.5) (4.12.2)\n",
      "Defaulting to user installation because normal site-packages is not writeable\n",
      "Requirement already satisfied: wordcloud==1.9.4 in /home/deq/.local/lib/python3.8/site-packages (1.9.4)\n",
      "Requirement already satisfied: numpy>=1.6.1 in /home/deq/.local/lib/python3.8/site-packages (from wordcloud==1.9.4) (1.24.4)\n",
      "Requirement already satisfied: pillow in /usr/lib/python3/dist-packages (from wordcloud==1.9.4) (7.0.0)\n",
      "Requirement already satisfied: matplotlib in /home/deq/.local/lib/python3.8/site-packages (from wordcloud==1.9.4) (3.7.5)\n",
      "Requirement already satisfied: contourpy>=1.0.1 in /home/deq/.local/lib/python3.8/site-packages (from matplotlib->wordcloud==1.9.4) (1.1.1)\n",
      "Requirement already satisfied: cycler>=0.10 in /home/deq/.local/lib/python3.8/site-packages (from matplotlib->wordcloud==1.9.4) (0.12.1)\n",
      "Requirement already satisfied: fonttools>=4.22.0 in /home/deq/.local/lib/python3.8/site-packages (from matplotlib->wordcloud==1.9.4) (4.55.3)\n",
      "Requirement already satisfied: kiwisolver>=1.0.1 in /home/deq/.local/lib/python3.8/site-packages (from matplotlib->wordcloud==1.9.4) (1.4.7)\n",
      "Requirement already satisfied: packaging>=20.0 in /home/deq/.local/lib/python3.8/site-packages (from matplotlib->wordcloud==1.9.4) (24.2)\n",
      "Requirement already satisfied: pyparsing>=2.3.1 in /home/deq/.local/lib/python3.8/site-packages (from matplotlib->wordcloud==1.9.4) (3.1.4)\n",
      "Requirement already satisfied: python-dateutil>=2.7 in /home/deq/.local/lib/python3.8/site-packages (from matplotlib->wordcloud==1.9.4) (2.9.0.post0)\n",
      "Requirement already satisfied: importlib-resources>=3.2.0 in /home/deq/.local/lib/python3.8/site-packages (from matplotlib->wordcloud==1.9.4) (6.4.5)\n",
      "Requirement already satisfied: zipp>=3.1.0 in /home/deq/.local/lib/python3.8/site-packages (from importlib-resources>=3.2.0->matplotlib->wordcloud==1.9.4) (3.20.2)\n",
      "Requirement already satisfied: six>=1.5 in /usr/lib/python3/dist-packages (from python-dateutil>=2.7->matplotlib->wordcloud==1.9.4) (1.14.0)\n",
      "Defaulting to user installation because normal site-packages is not writeable\n",
      "Requirement already satisfied: plotly in /home/deq/.local/lib/python3.8/site-packages (6.3.0)\n",
      "Requirement already satisfied: narwhals>=1.15.1 in /home/deq/.local/lib/python3.8/site-packages (from plotly) (1.42.1)\n",
      "Requirement already satisfied: packaging in /home/deq/.local/lib/python3.8/site-packages (from plotly) (24.2)\n",
      "Defaulting to user installation because normal site-packages is not writeable\n",
      "Collecting en-core-web-sm==3.7.1\n",
      "  Downloading https://github.com/explosion/spacy-models/releases/download/en_core_web_sm-3.7.1/en_core_web_sm-3.7.1-py3-none-any.whl (12.8 MB)\n",
      "\u001b[2K     \u001b[38;2;114;156;31m━━━━━━━━━━━━━━━━━━━━━━━━━━━━━━━━━━━━━━━\u001b[0m \u001b[32m12.8/12.8 MB\u001b[0m \u001b[31m649.5 kB/s\u001b[0m eta \u001b[36m0:00:00\u001b[0m[36m0:00:01\u001b[0mm eta \u001b[36m0:00:01\u001b[0m\n",
      "Requirement already satisfied: spacy<3.8.0,>=3.7.2 in /home/deq/.local/lib/python3.8/site-packages (from en-core-web-sm==3.7.1) (3.7.5)\n",
      "Requirement already satisfied: spacy-legacy<3.1.0,>=3.0.11 in /home/deq/.local/lib/python3.8/site-packages (from spacy<3.8.0,>=3.7.2->en-core-web-sm==3.7.1) (3.0.12)\n",
      "Requirement already satisfied: spacy-loggers<2.0.0,>=1.0.0 in /home/deq/.local/lib/python3.8/site-packages (from spacy<3.8.0,>=3.7.2->en-core-web-sm==3.7.1) (1.0.5)\n",
      "Requirement already satisfied: murmurhash<1.1.0,>=0.28.0 in /home/deq/.local/lib/python3.8/site-packages (from spacy<3.8.0,>=3.7.2->en-core-web-sm==3.7.1) (1.0.13)\n",
      "Requirement already satisfied: cymem<2.1.0,>=2.0.2 in /home/deq/.local/lib/python3.8/site-packages (from spacy<3.8.0,>=3.7.2->en-core-web-sm==3.7.1) (2.0.11)\n",
      "Requirement already satisfied: preshed<3.1.0,>=3.0.2 in /home/deq/.local/lib/python3.8/site-packages (from spacy<3.8.0,>=3.7.2->en-core-web-sm==3.7.1) (3.0.10)\n",
      "Requirement already satisfied: thinc<8.3.0,>=8.2.2 in /home/deq/.local/lib/python3.8/site-packages (from spacy<3.8.0,>=3.7.2->en-core-web-sm==3.7.1) (8.2.5)\n",
      "Requirement already satisfied: wasabi<1.2.0,>=0.9.1 in /home/deq/.local/lib/python3.8/site-packages (from spacy<3.8.0,>=3.7.2->en-core-web-sm==3.7.1) (1.1.3)\n",
      "Requirement already satisfied: srsly<3.0.0,>=2.4.3 in /home/deq/.local/lib/python3.8/site-packages (from spacy<3.8.0,>=3.7.2->en-core-web-sm==3.7.1) (2.4.8)\n",
      "Requirement already satisfied: catalogue<2.1.0,>=2.0.6 in /home/deq/.local/lib/python3.8/site-packages (from spacy<3.8.0,>=3.7.2->en-core-web-sm==3.7.1) (2.0.10)\n",
      "Requirement already satisfied: weasel<0.5.0,>=0.1.0 in /home/deq/.local/lib/python3.8/site-packages (from spacy<3.8.0,>=3.7.2->en-core-web-sm==3.7.1) (0.4.1)\n",
      "Requirement already satisfied: typer<1.0.0,>=0.3.0 in /home/deq/.local/lib/python3.8/site-packages (from spacy<3.8.0,>=3.7.2->en-core-web-sm==3.7.1) (0.9.4)\n",
      "Requirement already satisfied: tqdm<5.0.0,>=4.38.0 in /home/deq/.local/lib/python3.8/site-packages (from spacy<3.8.0,>=3.7.2->en-core-web-sm==3.7.1) (4.67.1)\n",
      "Requirement already satisfied: requests<3.0.0,>=2.13.0 in /home/deq/.local/lib/python3.8/site-packages (from spacy<3.8.0,>=3.7.2->en-core-web-sm==3.7.1) (2.32.3)\n",
      "Requirement already satisfied: pydantic!=1.8,!=1.8.1,<3.0.0,>=1.7.4 in /home/deq/.local/lib/python3.8/site-packages (from spacy<3.8.0,>=3.7.2->en-core-web-sm==3.7.1) (2.10.5)\n",
      "Requirement already satisfied: jinja2 in /home/deq/.local/lib/python3.8/site-packages (from spacy<3.8.0,>=3.7.2->en-core-web-sm==3.7.1) (3.1.4)\n",
      "Requirement already satisfied: setuptools in /home/deq/.local/lib/python3.8/site-packages (from spacy<3.8.0,>=3.7.2->en-core-web-sm==3.7.1) (75.3.2)\n",
      "Requirement already satisfied: packaging>=20.0 in /home/deq/.local/lib/python3.8/site-packages (from spacy<3.8.0,>=3.7.2->en-core-web-sm==3.7.1) (24.2)\n",
      "Requirement already satisfied: langcodes<4.0.0,>=3.2.0 in /home/deq/.local/lib/python3.8/site-packages (from spacy<3.8.0,>=3.7.2->en-core-web-sm==3.7.1) (3.4.1)\n",
      "Requirement already satisfied: numpy>=1.15.0 in /home/deq/.local/lib/python3.8/site-packages (from spacy<3.8.0,>=3.7.2->en-core-web-sm==3.7.1) (1.24.4)\n",
      "Requirement already satisfied: language-data>=1.2 in /home/deq/.local/lib/python3.8/site-packages (from langcodes<4.0.0,>=3.2.0->spacy<3.8.0,>=3.7.2->en-core-web-sm==3.7.1) (1.3.0)\n",
      "Requirement already satisfied: annotated-types>=0.6.0 in /home/deq/.local/lib/python3.8/site-packages (from pydantic!=1.8,!=1.8.1,<3.0.0,>=1.7.4->spacy<3.8.0,>=3.7.2->en-core-web-sm==3.7.1) (0.7.0)\n",
      "Requirement already satisfied: pydantic-core==2.27.2 in /home/deq/.local/lib/python3.8/site-packages (from pydantic!=1.8,!=1.8.1,<3.0.0,>=1.7.4->spacy<3.8.0,>=3.7.2->en-core-web-sm==3.7.1) (2.27.2)\n",
      "Requirement already satisfied: typing-extensions>=4.12.2 in /home/deq/.local/lib/python3.8/site-packages (from pydantic!=1.8,!=1.8.1,<3.0.0,>=1.7.4->spacy<3.8.0,>=3.7.2->en-core-web-sm==3.7.1) (4.12.2)\n",
      "Requirement already satisfied: charset-normalizer<4,>=2 in /home/deq/.local/lib/python3.8/site-packages (from requests<3.0.0,>=2.13.0->spacy<3.8.0,>=3.7.2->en-core-web-sm==3.7.1) (3.4.0)\n",
      "Requirement already satisfied: idna<4,>=2.5 in /usr/lib/python3/dist-packages (from requests<3.0.0,>=2.13.0->spacy<3.8.0,>=3.7.2->en-core-web-sm==3.7.1) (2.8)\n",
      "Requirement already satisfied: urllib3<3,>=1.21.1 in /usr/lib/python3/dist-packages (from requests<3.0.0,>=2.13.0->spacy<3.8.0,>=3.7.2->en-core-web-sm==3.7.1) (1.25.8)\n",
      "Requirement already satisfied: certifi>=2017.4.17 in /usr/lib/python3/dist-packages (from requests<3.0.0,>=2.13.0->spacy<3.8.0,>=3.7.2->en-core-web-sm==3.7.1) (2019.11.28)\n",
      "Requirement already satisfied: blis<0.8.0,>=0.7.8 in /home/deq/.local/lib/python3.8/site-packages (from thinc<8.3.0,>=8.2.2->spacy<3.8.0,>=3.7.2->en-core-web-sm==3.7.1) (0.7.11)\n",
      "Requirement already satisfied: confection<1.0.0,>=0.0.1 in /home/deq/.local/lib/python3.8/site-packages (from thinc<8.3.0,>=8.2.2->spacy<3.8.0,>=3.7.2->en-core-web-sm==3.7.1) (0.1.5)\n",
      "Requirement already satisfied: click<9.0.0,>=7.1.1 in /home/deq/.local/lib/python3.8/site-packages (from typer<1.0.0,>=0.3.0->spacy<3.8.0,>=3.7.2->en-core-web-sm==3.7.1) (8.1.8)\n",
      "Requirement already satisfied: cloudpathlib<1.0.0,>=0.7.0 in /home/deq/.local/lib/python3.8/site-packages (from weasel<0.5.0,>=0.1.0->spacy<3.8.0,>=3.7.2->en-core-web-sm==3.7.1) (0.20.0)\n",
      "Requirement already satisfied: smart-open<8.0.0,>=5.2.1 in /home/deq/.local/lib/python3.8/site-packages (from weasel<0.5.0,>=0.1.0->spacy<3.8.0,>=3.7.2->en-core-web-sm==3.7.1) (6.4.0)\n",
      "Requirement already satisfied: MarkupSafe>=2.0 in /home/deq/.local/lib/python3.8/site-packages (from jinja2->spacy<3.8.0,>=3.7.2->en-core-web-sm==3.7.1) (2.1.5)\n",
      "Requirement already satisfied: marisa-trie>=1.1.0 in /home/deq/.local/lib/python3.8/site-packages (from language-data>=1.2->langcodes<4.0.0,>=3.2.0->spacy<3.8.0,>=3.7.2->en-core-web-sm==3.7.1) (1.2.1)\n",
      "\u001b[38;5;2m✔ Download and installation successful\u001b[0m\n",
      "You can now load the package via spacy.load('en_core_web_sm')\n"
     ]
    }
   ],
   "source": [
    "!pip3 install --upgrade numpy==1.26.4\n",
    "!pip3 install --upgrade pandas==2.2.2\n",
    "!pip3 install --upgrade nltk==3.9.1\n",
    "!pip3 install --upgrade spacy==3.7.5\n",
    "!pip3 install --upgrade scipy==1.12\n",
    "!pip3 install --upgrade pydantic==2.10.5\n",
    "!pip3 install wordcloud==1.9.4\n",
    "!pip3 install plotly\n",
    "!python3 -m spacy download en_core_web_sm"
   ]
  },
  {
   "cell_type": "markdown",
   "metadata": {
    "id": "JuLFIymAL58u"
   },
   "source": [
    "## Importing the necessary libraries"
   ]
  },
  {
   "cell_type": "code",
   "execution_count": 4,
   "metadata": {
    "id": "O-Q9pqrcJrFr"
   },
   "outputs": [],
   "source": [
    "# Import essential libraries for data manipulation and analysis\n",
    "import numpy as np  # For numerical operations and arrays\n",
    "import pandas as pd  # For working with dataframes and structured data\n",
    "import re  # For regular expression operations (text processing)\n",
    "import nltk  # Natural Language Toolkit for text processing\n",
    "import spacy  # For advanced NLP tasks\n",
    "import string  # For handling string-related operations\n",
    "\n",
    "# Optional: Uncomment the line below to enable GPU support for spaCy (if you have a compatible GPU)\n",
    "#spacy.require_gpu()\n",
    "\n",
    "# Load the spaCy small English language model\n",
    "nlp = spacy.load(\"en_core_web_sm\")\n",
    "\n",
    "# For data visualization\n",
    "import seaborn as sns  # Data visualization library for statistical graphics\n",
    "import matplotlib.pyplot as plt  # Matplotlib for creating static plots\n",
    "# Configure Matplotlib to display plots inline in Jupyter Notebook\n",
    "%matplotlib inline\n",
    "\n",
    "# Suppress unnecessary warnings to keep output clean\n",
    "import warnings\n",
    "warnings.filterwarnings('ignore')\n",
    "\n",
    "# For interactive plots\n",
    "from plotly.offline import plot  # Enables offline plotting with Plotly\n",
    "import plotly.graph_objects as go  # For creating customizable Plotly plots\n",
    "import plotly.express as px  # A high-level interface for Plotly\n",
    "\n",
    "# For preprocessing and feature extraction in machine learning\n",
    "from sklearn.feature_extraction.text import (  # Methods for text vectorization\n",
    "    CountVectorizer,  # Converts text into a bag-of-words model\n",
    ")\n",
    "\n",
    "# Import accuracy, precision, recall, f_score from sklearn to predict train accuracy\n",
    "from sklearn.metrics import accuracy_score, precision_score, recall_score, f1_score\n",
    "\n",
    "# Pretty printing for better readability of output\n",
    "from pprint import pprint\n",
    "\n",
    "# For progress tracking in loops (useful for larger datasets)\n",
    "from tqdm import tqdm, tqdm_notebook  # Progress bar for loops\n",
    "tqdm.pandas()  # Enables progress bars for pandas operations\n"
   ]
  },
  {
   "cell_type": "code",
   "execution_count": null,
   "metadata": {
    "id": "s8Le3OfjI666"
   },
   "outputs": [],
   "source": [
    "## Change the display properties of pandas to max\n",
    "# pd.set_option('display.max_colwidth', None)\n",
    "# pd.set_option('display.max_columns', None)\n",
    "# pd.set_option('display.max_rows', None)"
   ]
  },
  {
   "cell_type": "markdown",
   "metadata": {
    "id": "KtRLCsNVJrFt"
   },
   "source": [
    "## Load the data\n",
    "\n",
    "Load the True.csv and Fake.csv files as DataFrames"
   ]
  },
  {
   "cell_type": "code",
   "execution_count": 5,
   "metadata": {
    "id": "puVzIf_iJrFt"
   },
   "outputs": [],
   "source": [
    "# Import the first file - True.csv\n",
    "True_News = pd.read_csv(\"True.csv\")\n",
    "# Import the second file - Fake.csv\n",
    "Fake_News = pd.read_csv(\"Fake.csv\")\n"
   ]
  },
  {
   "cell_type": "markdown",
   "metadata": {
    "id": "_xYpH-sAJrFu"
   },
   "source": [
    "## **1.** Data Preparation  <font color = red>[10 marks]</font>\n",
    "\n",
    "\n",
    "\n"
   ]
  },
  {
   "cell_type": "markdown",
   "metadata": {
    "id": "A2fTeYJImEv7"
   },
   "source": [
    "### **1.0** Data Understanding"
   ]
  },
  {
   "cell_type": "code",
   "execution_count": 6,
   "metadata": {
    "colab": {
     "base_uri": "https://localhost:8080/",
     "height": 206
    },
    "id": "Lf8ufHH5JrFu",
    "outputId": "fbe4f1e5-455a-465c-e379-0a4ecf2cb7f6"
   },
   "outputs": [
    {
     "data": {
      "text/html": [
       "<div>\n",
       "<style scoped>\n",
       "    .dataframe tbody tr th:only-of-type {\n",
       "        vertical-align: middle;\n",
       "    }\n",
       "\n",
       "    .dataframe tbody tr th {\n",
       "        vertical-align: top;\n",
       "    }\n",
       "\n",
       "    .dataframe thead th {\n",
       "        text-align: right;\n",
       "    }\n",
       "</style>\n",
       "<table border=\"1\" class=\"dataframe\">\n",
       "  <thead>\n",
       "    <tr style=\"text-align: right;\">\n",
       "      <th></th>\n",
       "      <th>title</th>\n",
       "      <th>text</th>\n",
       "      <th>date</th>\n",
       "    </tr>\n",
       "  </thead>\n",
       "  <tbody>\n",
       "    <tr>\n",
       "      <th>0</th>\n",
       "      <td>As U.S. budget fight looms, Republicans flip t...</td>\n",
       "      <td>WASHINGTON (Reuters) - The head of a conservat...</td>\n",
       "      <td>December 31, 2017</td>\n",
       "    </tr>\n",
       "    <tr>\n",
       "      <th>1</th>\n",
       "      <td>U.S. military to accept transgender recruits o...</td>\n",
       "      <td>WASHINGTON (Reuters) - Transgender people will...</td>\n",
       "      <td>December 29, 2017</td>\n",
       "    </tr>\n",
       "    <tr>\n",
       "      <th>2</th>\n",
       "      <td>Senior U.S. Republican senator: 'Let Mr. Muell...</td>\n",
       "      <td>WASHINGTON (Reuters) - The special counsel inv...</td>\n",
       "      <td>December 31, 2017</td>\n",
       "    </tr>\n",
       "    <tr>\n",
       "      <th>3</th>\n",
       "      <td>FBI Russia probe helped by Australian diplomat...</td>\n",
       "      <td>WASHINGTON (Reuters) - Trump campaign adviser ...</td>\n",
       "      <td>December 30, 2017</td>\n",
       "    </tr>\n",
       "    <tr>\n",
       "      <th>4</th>\n",
       "      <td>Trump wants Postal Service to charge 'much mor...</td>\n",
       "      <td>SEATTLE/WASHINGTON (Reuters) - President Donal...</td>\n",
       "      <td>December 29, 2017</td>\n",
       "    </tr>\n",
       "  </tbody>\n",
       "</table>\n",
       "</div>"
      ],
      "text/plain": [
       "                                               title  \\\n",
       "0  As U.S. budget fight looms, Republicans flip t...   \n",
       "1  U.S. military to accept transgender recruits o...   \n",
       "2  Senior U.S. Republican senator: 'Let Mr. Muell...   \n",
       "3  FBI Russia probe helped by Australian diplomat...   \n",
       "4  Trump wants Postal Service to charge 'much mor...   \n",
       "\n",
       "                                                text                date  \n",
       "0  WASHINGTON (Reuters) - The head of a conservat...  December 31, 2017   \n",
       "1  WASHINGTON (Reuters) - Transgender people will...  December 29, 2017   \n",
       "2  WASHINGTON (Reuters) - The special counsel inv...  December 31, 2017   \n",
       "3  WASHINGTON (Reuters) - Trump campaign adviser ...  December 30, 2017   \n",
       "4  SEATTLE/WASHINGTON (Reuters) - President Donal...  December 29, 2017   "
      ]
     },
     "execution_count": 6,
     "metadata": {},
     "output_type": "execute_result"
    }
   ],
   "source": [
    "# Inspect the DataFrame with True News to understand the given data\n",
    "True_News.head()"
   ]
  },
  {
   "cell_type": "code",
   "execution_count": 7,
   "metadata": {
    "colab": {
     "base_uri": "https://localhost:8080/",
     "height": 206
    },
    "id": "gI7X0Voh6h7r",
    "outputId": "2a8b2f3e-36e0-46e9-e472-9e0128888a93"
   },
   "outputs": [
    {
     "data": {
      "text/html": [
       "<div>\n",
       "<style scoped>\n",
       "    .dataframe tbody tr th:only-of-type {\n",
       "        vertical-align: middle;\n",
       "    }\n",
       "\n",
       "    .dataframe tbody tr th {\n",
       "        vertical-align: top;\n",
       "    }\n",
       "\n",
       "    .dataframe thead th {\n",
       "        text-align: right;\n",
       "    }\n",
       "</style>\n",
       "<table border=\"1\" class=\"dataframe\">\n",
       "  <thead>\n",
       "    <tr style=\"text-align: right;\">\n",
       "      <th></th>\n",
       "      <th>title</th>\n",
       "      <th>text</th>\n",
       "      <th>date</th>\n",
       "    </tr>\n",
       "  </thead>\n",
       "  <tbody>\n",
       "    <tr>\n",
       "      <th>0</th>\n",
       "      <td>Donald Trump Sends Out Embarrassing New Year’...</td>\n",
       "      <td>Donald Trump just couldn t wish all Americans ...</td>\n",
       "      <td>December 31, 2017</td>\n",
       "    </tr>\n",
       "    <tr>\n",
       "      <th>1</th>\n",
       "      <td>Drunk Bragging Trump Staffer Started Russian ...</td>\n",
       "      <td>House Intelligence Committee Chairman Devin Nu...</td>\n",
       "      <td>December 31, 2017</td>\n",
       "    </tr>\n",
       "    <tr>\n",
       "      <th>2</th>\n",
       "      <td>Sheriff David Clarke Becomes An Internet Joke...</td>\n",
       "      <td>On Friday, it was revealed that former Milwauk...</td>\n",
       "      <td>December 30, 2017</td>\n",
       "    </tr>\n",
       "    <tr>\n",
       "      <th>3</th>\n",
       "      <td>Trump Is So Obsessed He Even Has Obama’s Name...</td>\n",
       "      <td>On Christmas day, Donald Trump announced that ...</td>\n",
       "      <td>December 29, 2017</td>\n",
       "    </tr>\n",
       "    <tr>\n",
       "      <th>4</th>\n",
       "      <td>Pope Francis Just Called Out Donald Trump Dur...</td>\n",
       "      <td>Pope Francis used his annual Christmas Day mes...</td>\n",
       "      <td>December 25, 2017</td>\n",
       "    </tr>\n",
       "  </tbody>\n",
       "</table>\n",
       "</div>"
      ],
      "text/plain": [
       "                                               title  \\\n",
       "0   Donald Trump Sends Out Embarrassing New Year’...   \n",
       "1   Drunk Bragging Trump Staffer Started Russian ...   \n",
       "2   Sheriff David Clarke Becomes An Internet Joke...   \n",
       "3   Trump Is So Obsessed He Even Has Obama’s Name...   \n",
       "4   Pope Francis Just Called Out Donald Trump Dur...   \n",
       "\n",
       "                                                text               date  \n",
       "0  Donald Trump just couldn t wish all Americans ...  December 31, 2017  \n",
       "1  House Intelligence Committee Chairman Devin Nu...  December 31, 2017  \n",
       "2  On Friday, it was revealed that former Milwauk...  December 30, 2017  \n",
       "3  On Christmas day, Donald Trump announced that ...  December 29, 2017  \n",
       "4  Pope Francis used his annual Christmas Day mes...  December 25, 2017  "
      ]
     },
     "execution_count": 7,
     "metadata": {},
     "output_type": "execute_result"
    }
   ],
   "source": [
    "# Inspect the DataFrame with Fake News to understand the given data\n",
    "Fake_News.head()"
   ]
  },
  {
   "cell_type": "code",
   "execution_count": 9,
   "metadata": {
    "colab": {
     "base_uri": "https://localhost:8080/"
    },
    "id": "Dwcty-wmJrFw",
    "outputId": "4539f78b-c71d-4c92-9c63-50914f0472c7"
   },
   "outputs": [
    {
     "name": "stdout",
     "output_type": "stream",
     "text": [
      "<class 'pandas.core.frame.DataFrame'>\n",
      "RangeIndex: 21417 entries, 0 to 21416\n",
      "Data columns (total 3 columns):\n",
      " #   Column  Non-Null Count  Dtype \n",
      "---  ------  --------------  ----- \n",
      " 0   title   21417 non-null  object\n",
      " 1   text    21417 non-null  object\n",
      " 2   date    21417 non-null  object\n",
      "dtypes: object(3)\n",
      "memory usage: 502.1+ KB\n"
     ]
    }
   ],
   "source": [
    "# Print the column details for True News DataFrame\n",
    "True_News.info()"
   ]
  },
  {
   "cell_type": "code",
   "execution_count": 8,
   "metadata": {
    "colab": {
     "base_uri": "https://localhost:8080/"
    },
    "id": "EPLAnUMjjzQ4",
    "outputId": "bc1ed40d-cced-43c8-8fe5-987a5870a2f4"
   },
   "outputs": [
    {
     "name": "stdout",
     "output_type": "stream",
     "text": [
      "<class 'pandas.core.frame.DataFrame'>\n",
      "RangeIndex: 23523 entries, 0 to 23522\n",
      "Data columns (total 3 columns):\n",
      " #   Column  Non-Null Count  Dtype \n",
      "---  ------  --------------  ----- \n",
      " 0   title   23502 non-null  object\n",
      " 1   text    23502 non-null  object\n",
      " 2   date    23481 non-null  object\n",
      "dtypes: object(3)\n",
      "memory usage: 551.4+ KB\n"
     ]
    }
   ],
   "source": [
    "# Print the column details for Fake News Dataframe\n",
    "Fake_News.info()"
   ]
  },
  {
   "cell_type": "code",
   "execution_count": 10,
   "metadata": {
    "colab": {
     "base_uri": "https://localhost:8080/"
    },
    "id": "dyuDFzPkI67B",
    "outputId": "5cd8b86e-0a4d-46f8-e020-f028aee606ad"
   },
   "outputs": [
    {
     "name": "stdout",
     "output_type": "stream",
     "text": [
      "Columns in True_News:\n",
      "Index(['title', 'text', 'date'], dtype='object')\n",
      "\n",
      "Columns in Fake_News:\n",
      "Index(['title', 'text', 'date'], dtype='object')\n"
     ]
    }
   ],
   "source": [
    "# Print the column names of both DataFrames\n",
    "# Print column names of True_News\n",
    "print(\"Columns in True_News:\")\n",
    "print(True_News.columns)\n",
    "\n",
    "# Print column names of Fake_News\n",
    "print(\"\\nColumns in Fake_News:\")\n",
    "print(Fake_News.columns)"
   ]
  },
  {
   "cell_type": "markdown",
   "metadata": {
    "id": "h2fff1S7hq5h"
   },
   "source": [
    "### **1.1** Add new column  <font color = red>[3 marks]</font> <br>\n",
    "\n",
    "Add new column `news_label` to both the DataFrames and assign labels"
   ]
  },
  {
   "cell_type": "code",
   "execution_count": 11,
   "metadata": {
    "id": "YOu_KhbH78du"
   },
   "outputs": [],
   "source": [
    "# Add a new column 'news_label' to the true news DataFrame and assign the label \"1\" to indicate that these news are true\n",
    "True_News[\"news_label\"] = 1\n",
    "# Add a new column 'news_label' to the fake news DataFrame and assign the label \"0\" to indicate that these news are fake\n",
    "Fake_News[\"news_label\"] = 0"
   ]
  },
  {
   "cell_type": "markdown",
   "metadata": {
    "id": "UShuo3h54DAh"
   },
   "source": [
    "### **1.2** Merge DataFrames  <font color = red>[2 marks]</font> <br>\n",
    "\n",
    "Create a new Dataframe by merging True and Fake DataFrames"
   ]
  },
  {
   "cell_type": "code",
   "execution_count": 12,
   "metadata": {
    "colab": {
     "base_uri": "https://localhost:8080/"
    },
    "id": "5GX_QMy04M4-",
    "outputId": "36c34bbd-2e1f-48b0-906d-7f321f8c5b71"
   },
   "outputs": [
    {
     "name": "stdout",
     "output_type": "stream",
     "text": [
      "Shape of combined dataset: (44940, 4)\n"
     ]
    }
   ],
   "source": [
    "# Combine the true and fake news DataFrames into a single DataFrame\n",
    "News_Data = pd.concat([True_News,Fake_News], axis=0, ignore_index=True)\n",
    "# Show shape of the combined DataFrame\n",
    "print(\"Shape of combined dataset:\", News_Data.shape)"
   ]
  },
  {
   "cell_type": "code",
   "execution_count": 13,
   "metadata": {
    "colab": {
     "base_uri": "https://localhost:8080/",
     "height": 206
    },
    "id": "FYCtKXD1JrFw",
    "outputId": "aeb5049c-95db-4863-b35d-2b72911fcecd"
   },
   "outputs": [
    {
     "data": {
      "text/html": [
       "<div>\n",
       "<style scoped>\n",
       "    .dataframe tbody tr th:only-of-type {\n",
       "        vertical-align: middle;\n",
       "    }\n",
       "\n",
       "    .dataframe tbody tr th {\n",
       "        vertical-align: top;\n",
       "    }\n",
       "\n",
       "    .dataframe thead th {\n",
       "        text-align: right;\n",
       "    }\n",
       "</style>\n",
       "<table border=\"1\" class=\"dataframe\">\n",
       "  <thead>\n",
       "    <tr style=\"text-align: right;\">\n",
       "      <th></th>\n",
       "      <th>title</th>\n",
       "      <th>text</th>\n",
       "      <th>date</th>\n",
       "      <th>news_label</th>\n",
       "    </tr>\n",
       "  </thead>\n",
       "  <tbody>\n",
       "    <tr>\n",
       "      <th>0</th>\n",
       "      <td>As U.S. budget fight looms, Republicans flip t...</td>\n",
       "      <td>WASHINGTON (Reuters) - The head of a conservat...</td>\n",
       "      <td>December 31, 2017</td>\n",
       "      <td>1</td>\n",
       "    </tr>\n",
       "    <tr>\n",
       "      <th>1</th>\n",
       "      <td>U.S. military to accept transgender recruits o...</td>\n",
       "      <td>WASHINGTON (Reuters) - Transgender people will...</td>\n",
       "      <td>December 29, 2017</td>\n",
       "      <td>1</td>\n",
       "    </tr>\n",
       "    <tr>\n",
       "      <th>2</th>\n",
       "      <td>Senior U.S. Republican senator: 'Let Mr. Muell...</td>\n",
       "      <td>WASHINGTON (Reuters) - The special counsel inv...</td>\n",
       "      <td>December 31, 2017</td>\n",
       "      <td>1</td>\n",
       "    </tr>\n",
       "    <tr>\n",
       "      <th>3</th>\n",
       "      <td>FBI Russia probe helped by Australian diplomat...</td>\n",
       "      <td>WASHINGTON (Reuters) - Trump campaign adviser ...</td>\n",
       "      <td>December 30, 2017</td>\n",
       "      <td>1</td>\n",
       "    </tr>\n",
       "    <tr>\n",
       "      <th>4</th>\n",
       "      <td>Trump wants Postal Service to charge 'much mor...</td>\n",
       "      <td>SEATTLE/WASHINGTON (Reuters) - President Donal...</td>\n",
       "      <td>December 29, 2017</td>\n",
       "      <td>1</td>\n",
       "    </tr>\n",
       "  </tbody>\n",
       "</table>\n",
       "</div>"
      ],
      "text/plain": [
       "                                               title  \\\n",
       "0  As U.S. budget fight looms, Republicans flip t...   \n",
       "1  U.S. military to accept transgender recruits o...   \n",
       "2  Senior U.S. Republican senator: 'Let Mr. Muell...   \n",
       "3  FBI Russia probe helped by Australian diplomat...   \n",
       "4  Trump wants Postal Service to charge 'much mor...   \n",
       "\n",
       "                                                text                date  \\\n",
       "0  WASHINGTON (Reuters) - The head of a conservat...  December 31, 2017    \n",
       "1  WASHINGTON (Reuters) - Transgender people will...  December 29, 2017    \n",
       "2  WASHINGTON (Reuters) - The special counsel inv...  December 31, 2017    \n",
       "3  WASHINGTON (Reuters) - Trump campaign adviser ...  December 30, 2017    \n",
       "4  SEATTLE/WASHINGTON (Reuters) - President Donal...  December 29, 2017    \n",
       "\n",
       "   news_label  \n",
       "0           1  \n",
       "1           1  \n",
       "2           1  \n",
       "3           1  \n",
       "4           1  "
      ]
     },
     "execution_count": 13,
     "metadata": {},
     "output_type": "execute_result"
    }
   ],
   "source": [
    "# Display the first 5 rows of the combined DataFrame to verify the result\n",
    "News_Data.head()"
   ]
  },
  {
   "cell_type": "markdown",
   "metadata": {
    "id": "IphUaBu3oFZK"
   },
   "source": [
    "### **1.3** Handle the null values  <font color = red>[2 marks]</font> <br>\n",
    "\n",
    "Check for null values and handle it by imputation or dropping the null values"
   ]
  },
  {
   "cell_type": "code",
   "execution_count": 14,
   "metadata": {
    "colab": {
     "base_uri": "https://localhost:8080/",
     "height": 209
    },
    "id": "4FRDxOo6r51j",
    "outputId": "5c787a78-9f6c-40f4-f16f-1fabf1b56374"
   },
   "outputs": [
    {
     "data": {
      "text/plain": [
       "title         21\n",
       "text          21\n",
       "date          42\n",
       "news_label     0\n",
       "dtype: int64"
      ]
     },
     "execution_count": 14,
     "metadata": {},
     "output_type": "execute_result"
    }
   ],
   "source": [
    "# Check Presence of Null Values\n",
    "News_Data.isnull().sum()"
   ]
  },
  {
   "cell_type": "code",
   "execution_count": null,
   "metadata": {
    "id": "eiwvoyfYr6EB"
   },
   "outputs": [],
   "source": [
    "# Handle Rows with Null Values\n",
    "News_Data = News_Data.dropna()"
   ]
  },
  {
   "cell_type": "code",
   "execution_count": 15,
   "metadata": {
    "colab": {
     "base_uri": "https://localhost:8080/",
     "height": 209
    },
    "id": "BK6lwMhxou5j",
    "outputId": "6f5dd36e-e32c-4a12-b872-c941d584e63d"
   },
   "outputs": [
    {
     "data": {
      "text/plain": [
       "title         21\n",
       "text          21\n",
       "date          42\n",
       "news_label     0\n",
       "dtype: int64"
      ]
     },
     "execution_count": 15,
     "metadata": {},
     "output_type": "execute_result"
    }
   ],
   "source": [
    "# Verify again\n",
    "News_Data.isnull().sum()"
   ]
  },
  {
   "cell_type": "code",
   "execution_count": 16,
   "metadata": {
    "colab": {
     "base_uri": "https://localhost:8080/"
    },
    "id": "KMp6CVGDmFsc",
    "outputId": "8c74791e-4e59-4763-9219-f9af665e538d"
   },
   "outputs": [
    {
     "data": {
      "text/plain": [
       "(44940, 4)"
      ]
     },
     "execution_count": 16,
     "metadata": {},
     "output_type": "execute_result"
    }
   ],
   "source": [
    "News_Data.shape"
   ]
  },
  {
   "cell_type": "markdown",
   "metadata": {
    "id": "kDyPvMITooWA"
   },
   "source": [
    "### **1.4** Merge the relevant columns and drop the rest from the DataFrame  <font color = red>[3 marks]</font> <br>\n",
    "\n",
    "Combine the relevant columns into a new column `news_text` and then drop irrelevant columns from the DataFrame"
   ]
  },
  {
   "cell_type": "code",
   "execution_count": 17,
   "metadata": {
    "colab": {
     "base_uri": "https://localhost:8080/",
     "height": 206
    },
    "id": "u9VI48jS_HTy",
    "outputId": "359f3824-4b82-4e2c-d589-85869cbd07ee"
   },
   "outputs": [
    {
     "data": {
      "text/html": [
       "<div>\n",
       "<style scoped>\n",
       "    .dataframe tbody tr th:only-of-type {\n",
       "        vertical-align: middle;\n",
       "    }\n",
       "\n",
       "    .dataframe tbody tr th {\n",
       "        vertical-align: top;\n",
       "    }\n",
       "\n",
       "    .dataframe thead th {\n",
       "        text-align: right;\n",
       "    }\n",
       "</style>\n",
       "<table border=\"1\" class=\"dataframe\">\n",
       "  <thead>\n",
       "    <tr style=\"text-align: right;\">\n",
       "      <th></th>\n",
       "      <th>date</th>\n",
       "      <th>news_label</th>\n",
       "      <th>news_text</th>\n",
       "    </tr>\n",
       "  </thead>\n",
       "  <tbody>\n",
       "    <tr>\n",
       "      <th>0</th>\n",
       "      <td>December 31, 2017</td>\n",
       "      <td>1</td>\n",
       "      <td>As U.S. budget fight looms, Republicans flip t...</td>\n",
       "    </tr>\n",
       "    <tr>\n",
       "      <th>1</th>\n",
       "      <td>December 29, 2017</td>\n",
       "      <td>1</td>\n",
       "      <td>U.S. military to accept transgender recruits o...</td>\n",
       "    </tr>\n",
       "    <tr>\n",
       "      <th>2</th>\n",
       "      <td>December 31, 2017</td>\n",
       "      <td>1</td>\n",
       "      <td>Senior U.S. Republican senator: 'Let Mr. Muell...</td>\n",
       "    </tr>\n",
       "    <tr>\n",
       "      <th>3</th>\n",
       "      <td>December 30, 2017</td>\n",
       "      <td>1</td>\n",
       "      <td>FBI Russia probe helped by Australian diplomat...</td>\n",
       "    </tr>\n",
       "    <tr>\n",
       "      <th>4</th>\n",
       "      <td>December 29, 2017</td>\n",
       "      <td>1</td>\n",
       "      <td>Trump wants Postal Service to charge 'much mor...</td>\n",
       "    </tr>\n",
       "  </tbody>\n",
       "</table>\n",
       "</div>"
      ],
      "text/plain": [
       "                 date  news_label  \\\n",
       "0  December 31, 2017            1   \n",
       "1  December 29, 2017            1   \n",
       "2  December 31, 2017            1   \n",
       "3  December 30, 2017            1   \n",
       "4  December 29, 2017            1   \n",
       "\n",
       "                                           news_text  \n",
       "0  As U.S. budget fight looms, Republicans flip t...  \n",
       "1  U.S. military to accept transgender recruits o...  \n",
       "2  Senior U.S. Republican senator: 'Let Mr. Muell...  \n",
       "3  FBI Russia probe helped by Australian diplomat...  \n",
       "4  Trump wants Postal Service to charge 'much mor...  "
      ]
     },
     "execution_count": 17,
     "metadata": {},
     "output_type": "execute_result"
    }
   ],
   "source": [
    "# Combine the relevant columns into a new column 'news_text' by joining their values with a space\n",
    "News_Data[\"news_text\"] = News_Data[\"title\"] + \" \" + News_Data[\"text\"]\n",
    "# Drop the irrelevant columns from the DataFrame as they are no longer needed\n",
    "News_Data = News_Data.drop(columns=[\"title\",\"text\"], errors=\"ignore\")\n",
    "\n",
    "# Display the first 5 rows of the updated DataFrame to check the result\n",
    "News_Data.head()"
   ]
  },
  {
   "cell_type": "code",
   "execution_count": 18,
   "metadata": {
    "colab": {
     "base_uri": "https://localhost:8080/"
    },
    "id": "kw6VEPQnmQj7",
    "outputId": "79939194-316e-492f-8a75-42b5cb10de39"
   },
   "outputs": [
    {
     "data": {
      "text/plain": [
       "(44940, 3)"
      ]
     },
     "execution_count": 18,
     "metadata": {},
     "output_type": "execute_result"
    }
   ],
   "source": [
    "News_Data.shape"
   ]
  },
  {
   "cell_type": "markdown",
   "metadata": {
    "id": "L944HZpsJrFy"
   },
   "source": [
    "## **2.** Text Preprocessing <font color = red>[15 marks]</font> <br>\n",
    "\n",
    "\n",
    "\n",
    "\n",
    "\n",
    "\n",
    "On all the news text, you need to:\n",
    "<ol type=1>\n",
    "  <li> Make the text lowercase\n",
    "  <li> Remove text in square brackets\n",
    "  <li> Remove punctuation\n",
    "  <li> Remove words containing numbers\n",
    "</ol>\n",
    "\n",
    "\n",
    "Once you have done these cleaning operations you need to perform POS tagging and lemmatization on the cleaned news text, and remove all words that are not tagged as NN or NNS."
   ]
  },
  {
   "cell_type": "markdown",
   "metadata": {
    "id": "_-6VW3V3jx1A"
   },
   "source": [
    "### **2.1** Text Cleaning  <font color = red>[5 marks]</font> <br>\n",
    "\n"
   ]
  },
  {
   "cell_type": "markdown",
   "metadata": {
    "id": "78OZs7P4kp41"
   },
   "source": [
    "#### 2.1.0 Create a new DataFrame to store the processed data\n",
    "\n"
   ]
  },
  {
   "cell_type": "code",
   "execution_count": 19,
   "metadata": {
    "id": "uXnN7aa_JrF0"
   },
   "outputs": [],
   "source": [
    "# Create a DataFrame('df_clean') that will have only the cleaned news text and the lemmatized news text with POS tags removed\n",
    "df_clean = pd.DataFrame({\n",
    "    \"cleaned_text\": [\"\"]* len(News_Data),\n",
    "    \"lemmatized_text\": [\"\"]* len(News_Data)})\n",
    "\n",
    "# Add 'news_label' column to the new dataframe for topic identification\n",
    "\n",
    "df_clean[\"news_label\"] = News_Data[\"news_label\"].values\n"
   ]
  },
  {
   "cell_type": "code",
   "execution_count": 20,
   "metadata": {
    "colab": {
     "base_uri": "https://localhost:8080/"
    },
    "id": "Cla28RUvnkku",
    "outputId": "d7b7f017-15fc-46e8-d045-35c9f0f2ac7d"
   },
   "outputs": [
    {
     "data": {
      "text/plain": [
       "(44940, 3)"
      ]
     },
     "execution_count": 20,
     "metadata": {},
     "output_type": "execute_result"
    }
   ],
   "source": [
    "df_clean.shape"
   ]
  },
  {
   "cell_type": "markdown",
   "metadata": {
    "id": "hsf00J83mdNL"
   },
   "source": [
    "#### 2.1.1 Write the function to clean the text and remove all the unnecessary elements  <font color = red>[4 marks]</font> <br>\n",
    "\n"
   ]
  },
  {
   "cell_type": "code",
   "execution_count": 21,
   "metadata": {
    "id": "qm7SjjSkJrFz"
   },
   "outputs": [],
   "source": [
    "# Write the function here to clean the text and remove all the unnecessary elements\n",
    "import re\n",
    "import string\n",
    "\n",
    "# Function to clean text\n",
    "def clean_text(text):\n",
    "    # 1. Convert to lower case\n",
    "    text = text.lower()\n",
    "\n",
    "    # 2. Remove text in square brackets\n",
    "    text = re.sub(r\"\\[.*?\\]\", \"\", text)\n",
    "\n",
    "    # 3. Remove punctuation\n",
    "    text = text.translate(str.maketrans(\"\", \"\", string.punctuation))\n",
    "\n",
    "    # 4. Remove words containing numbers\n",
    "    text = re.sub(r\"\\w*\\d\\w*\", \"\", text)\n",
    "\n",
    "    return text\n"
   ]
  },
  {
   "cell_type": "markdown",
   "metadata": {
    "id": "dDFMNnrdkUvd"
   },
   "source": [
    "#### 2.1.2  Apply the function to clean the news text and store the cleaned text in a new column within the new DataFrame. <font color = red>[1 mark]</font> <br>\n"
   ]
  },
  {
   "cell_type": "code",
   "execution_count": 22,
   "metadata": {},
   "outputs": [
    {
     "name": "stdout",
     "output_type": "stream",
     "text": [
      "Columns in News_Data: ['date', 'news_label', 'news_text']\n"
     ]
    }
   ],
   "source": [
    "print(\"Columns in News_Data:\", News_Data.columns.tolist())\n"
   ]
  },
  {
   "cell_type": "code",
   "execution_count": null,
   "metadata": {
    "id": "nOiDVvEIJrF0"
   },
   "outputs": [],
   "source": [
    "## Make a copy of the original data\n",
    "df_clean = News_Data.copy()\n",
    "\n",
    "# Apply cleaning function on the 'text' column\n",
    "df_clean[\"cleaned_text\"] = df_clean[\"news_text\"].apply(clean_text)\n"
   ]
  },
  {
   "cell_type": "code",
   "execution_count": null,
   "metadata": {
    "colab": {
     "base_uri": "https://localhost:8080/"
    },
    "id": "gH4xGlzmjppg",
    "outputId": "ef79e4e3-c727-4765-d8f6-17381888ac48"
   },
   "outputs": [],
   "source": [
    "df_clean.shape"
   ]
  },
  {
   "cell_type": "code",
   "execution_count": null,
   "metadata": {
    "colab": {
     "base_uri": "https://localhost:8080/"
    },
    "id": "zU5FhABkwDVu",
    "outputId": "8ea71f39-5b0a-4260-8718-858d95400856"
   },
   "outputs": [],
   "source": [
    "df_clean.info()"
   ]
  },
  {
   "cell_type": "code",
   "execution_count": null,
   "metadata": {
    "id": "5nN9vMJRwPjo"
   },
   "outputs": [],
   "source": []
  },
  {
   "cell_type": "code",
   "execution_count": null,
   "metadata": {
    "colab": {
     "base_uri": "https://localhost:8080/",
     "height": 206
    },
    "id": "TWBe9HLVou5s",
    "outputId": "28ecb978-31cc-437b-ee66-240b7ac18792"
   },
   "outputs": [],
   "source": [
    "df_clean.head()"
   ]
  },
  {
   "cell_type": "markdown",
   "metadata": {
    "id": "MSAVnSelkF9d"
   },
   "source": [
    "### **2.2** POS Tagging and Lemmatization  <font color = red>[10 marks]</font> <br>\n",
    "\n"
   ]
  },
  {
   "cell_type": "markdown",
   "metadata": {
    "id": "QCqNHDL2mHok"
   },
   "source": [
    "#### 2.2.1 Write the function for POS tagging and lemmatization, filtering stopwords and keeping only NN and NNS tags <font color = red>[8 marks]</font> <br>\n",
    "\n"
   ]
  },
  {
   "cell_type": "code",
   "execution_count": 25,
   "metadata": {
    "colab": {
     "base_uri": "https://localhost:8080/"
    },
    "id": "zgOu8t8HJrFz",
    "outputId": "f81f6dda-be83-45f4-bb36-36d12e3c6d55"
   },
   "outputs": [
    {
     "name": "stderr",
     "output_type": "stream",
     "text": [
      "[nltk_data] Downloading package punkt to /home/deq/nltk_data...\n",
      "[nltk_data]   Package punkt is already up-to-date!\n",
      "[nltk_data] Downloading package averaged_perceptron_tagger to\n",
      "[nltk_data]     /home/deq/nltk_data...\n",
      "[nltk_data]   Package averaged_perceptron_tagger is already up-to-\n",
      "[nltk_data]       date!\n",
      "[nltk_data] Downloading package wordnet to /home/deq/nltk_data...\n",
      "[nltk_data]   Package wordnet is already up-to-date!\n",
      "[nltk_data] Downloading package stopwords to /home/deq/nltk_data...\n",
      "[nltk_data]   Package stopwords is already up-to-date!\n",
      "[nltk_data] Downloading package punkt_tab to /home/deq/nltk_data...\n",
      "[nltk_data]   Package punkt_tab is already up-to-date!\n",
      "[nltk_data] Downloading package averaged_perceptron_tagger_eng to\n",
      "[nltk_data]     /home/deq/nltk_data...\n",
      "[nltk_data]   Package averaged_perceptron_tagger_eng is already up-to-\n",
      "[nltk_data]       date!\n"
     ]
    }
   ],
   "source": [
    "# Write the function for POS tagging and lemmatization, filtering stopwords and keeping only NN and NNS tags\n",
    "import nltk\n",
    "from nltk.corpus import stopwords, wordnet\n",
    "from nltk.stem import WordNetLemmatizer\n",
    "\n",
    "# Ensure resources are downloaded (run once)\n",
    "nltk.download(\"punkt\")\n",
    "nltk.download(\"averaged_perceptron_tagger\")\n",
    "nltk.download(\"wordnet\")\n",
    "nltk.download(\"stopwords\")\n",
    "nltk.download('punkt_tab')\n",
    "nltk.download('averaged_perceptron_tagger_eng')\n",
    "\n",
    "\n",
    "stop_words = set(stopwords.words(\"english\"))\n",
    "lemmatizer = WordNetLemmatizer()\n",
    "\n",
    "def pos_lemmatize_nouns(text):\n",
    "    tokens = nltk.word_tokenize(text.lower())  # tokenize and lowercase\n",
    "    pos_tags = nltk.pos_tag(tokens)            # POS tagging\n",
    "\n",
    "    lemmas = []\n",
    "    for word, tag in pos_tags:\n",
    "        if word.isalpha() and word not in stop_words:   # keep only words, no digits/punct\n",
    "            if tag in [\"NN\", \"NNS\"]:  # only nouns\n",
    "                lemma = lemmatizer.lemmatize(word, wordnet.NOUN)\n",
    "                lemmas.append(lemma)\n",
    "    return \" \".join(lemmas)  # return as a single cleaned sentence\n"
   ]
  },
  {
   "cell_type": "markdown",
   "metadata": {
    "id": "_T3So7PXlibT"
   },
   "source": [
    "#### 2.2.2  Apply the POS tagging and lemmatization function to cleaned text and store it in a new column within the new DataFrame. <font color = red>[2 mark]</font> <br>\n",
    "\n",
    "**NOTE: Store the cleaned text and the lemmatized text with POS tags removed in separate columns within the new DataFrame.**\n",
    "\n",
    "**This will be useful for analysing character length differences between cleaned text and lemmatized text with POS tags removed during EDA.**\n"
   ]
  },
  {
   "cell_type": "code",
   "execution_count": 41,
   "metadata": {},
   "outputs": [
    {
     "name": "stdout",
     "output_type": "stream",
     "text": [
      "Index(['date', 'news_label', 'news_text'], dtype='object')\n"
     ]
    }
   ],
   "source": [
    "print(df_clean.columns)"
   ]
  },
  {
   "cell_type": "code",
   "execution_count": null,
   "metadata": {
    "id": "L9FWmibNI67F"
   },
   "outputs": [],
   "source": [
    "def clean_text(text):\n",
    "    text = str(text).lower()   # convert everything to string\n",
    "    \n",
    "    text = re.sub(r\"\\[.*?\\]\", \"\", text)   # remove text in []\n",
    "    text = re.sub(r\"[^\\w\\s]\", \"\", text)   # remove punctuation\n",
    "    text = re.sub(r\"\\d+\", \"\", text)       # remove digits\n",
    "    text = re.sub(r\"\\s+\", \" \", text).strip()  # remove extra spaces\n",
    "    \n",
    "    return text\n",
    "\n",
    "\n",
    "# Apply cleaning pipeline\n",
    "df_clean = News_Data.copy()\n",
    "df_clean[\"cleaned_text\"] = df_clean[\"news_text\"].apply(clean_text)\n",
    "df_clean[\"lemmatized_text\"] = df_clean[\"cleaned_text\"].apply(pos_lemmatize_nouns)\n",
    "df_clean[\"char_length\"] = df_clean[\"cleaned_text\"].str.len()\n",
    "df_clean[\"lemmatized_char_length\"] = df_clean[\"lemmatized_text\"].str.len()\n",
    "\n",
    "print(\"Shape after cleaning:\", df_clean.shape)\n",
    "print(df_clean.head())\n"
   ]
  },
  {
   "cell_type": "markdown",
   "metadata": {
    "id": "BMc5kjeqnX9b"
   },
   "source": [
    "### Save the Cleaned data as a csv file (Recommended)"
   ]
  },
  {
   "cell_type": "code",
   "execution_count": null,
   "metadata": {
    "id": "fTjNG5xfnlwm"
   },
   "outputs": [],
   "source": [
    "## Recommended to perform the below steps to save time while rerunning the code\n",
    "# df_clean.to_csv(\"clean_df.csv\", index=False)\n",
    "df_clean.to_csv(\"clean_df.csv\", index=False)\n",
    "# df_clean = pd.read_csv(\"clean_df.csv\")\n",
    "df_clean = pd.read_csv(\"clean_df.csv\")"
   ]
  },
  {
   "cell_type": "code",
   "execution_count": null,
   "metadata": {
    "colab": {
     "base_uri": "https://localhost:8080/",
     "height": 206
    },
    "id": "0M0LseVjneMv",
    "outputId": "1f3fada6-b46b-44c1-8dd0-9896904d40f3"
   },
   "outputs": [],
   "source": [
    "# Check the first few rows of the DataFrame\n",
    "df_clean.head()"
   ]
  },
  {
   "cell_type": "code",
   "execution_count": 30,
   "metadata": {
    "colab": {
     "base_uri": "https://localhost:8080/"
    },
    "id": "lDZq_T3FYuOi",
    "outputId": "0f1ff663-6cce-49b5-8790-2642d69e320e"
   },
   "outputs": [
    {
     "name": "stdout",
     "output_type": "stream",
     "text": [
      "Dimensions of df_clean: (44940, 3)\n"
     ]
    }
   ],
   "source": [
    "# Check the dimensions of the DataFrame\n",
    "print(\"Dimensions of df_clean:\", df_clean.shape)"
   ]
  },
  {
   "cell_type": "code",
   "execution_count": 35,
   "metadata": {
    "colab": {
     "base_uri": "https://localhost:8080/"
    },
    "id": "ah1aJPmiAqWz",
    "outputId": "f74715a1-26c5-458a-9015-c034577b78f4"
   },
   "outputs": [
    {
     "name": "stdout",
     "output_type": "stream",
     "text": [
      "<class 'pandas.core.frame.DataFrame'>\n",
      "Index: 44898 entries, 0 to 44939\n",
      "Data columns (total 3 columns):\n",
      " #   Column      Non-Null Count  Dtype \n",
      "---  ------      --------------  ----- \n",
      " 0   date        44898 non-null  object\n",
      " 1   news_label  44898 non-null  int64 \n",
      " 2   news_text   44898 non-null  object\n",
      "dtypes: int64(1), object(2)\n",
      "memory usage: 1.4+ MB\n",
      "None\n"
     ]
    }
   ],
   "source": [
    "# Check the number of non-null entries and data types of each column\n",
    "print(df_clean.info())"
   ]
  },
  {
   "cell_type": "code",
   "execution_count": 44,
   "metadata": {
    "colab": {
     "base_uri": "https://localhost:8080/",
     "height": 178
    },
    "id": "E3FGhQEnlpFF",
    "outputId": "5146c978-0ff5-465b-c7d7-3e0dbaa433bf"
   },
   "outputs": [
    {
     "data": {
      "text/plain": [
       "date          42\n",
       "news_label     0\n",
       "news_text     21\n",
       "dtype: int64"
      ]
     },
     "execution_count": 44,
     "metadata": {},
     "output_type": "execute_result"
    }
   ],
   "source": [
    "df_clean.isnull().sum()"
   ]
  },
  {
   "cell_type": "code",
   "execution_count": 45,
   "metadata": {
    "id": "G_Zipm7Twhol"
   },
   "outputs": [],
   "source": [
    "df_clean=df_clean.dropna()"
   ]
  },
  {
   "cell_type": "code",
   "execution_count": null,
   "metadata": {
    "colab": {
     "base_uri": "https://localhost:8080/",
     "height": 178
    },
    "id": "R8Fny2ihws--",
    "outputId": "b7f28a5a-1886-4d49-b932-c20465928a5a"
   },
   "outputs": [],
   "source": [
    "df_clean.isnull().sum()"
   ]
  },
  {
   "cell_type": "markdown",
   "metadata": {
    "id": "XMzqKme_2QQ0"
   },
   "source": [
    "## **3.** Train Validation Split <font color = red>[5 marks]</font> <br>"
   ]
  },
  {
   "cell_type": "code",
   "execution_count": 65,
   "metadata": {
    "id": "jmx_W7Ty2PlK"
   },
   "outputs": [],
   "source": [
    "# Import Train Test Split and split the DataFrame into 70% train and 30% validation data\n",
    "from sklearn.model_selection import train_test_split\n",
    "\n",
    "train_df, val_df = train_test_split(\n",
    "    df_clean,\n",
    "    test_size=0.3,   # 30% validation\n",
    "    random_state=42,\n",
    "    stratify=df_clean[\"news_label\"] # keep label distribution balanced\n",
    ")"
   ]
  },
  {
   "cell_type": "code",
   "execution_count": 66,
   "metadata": {
    "colab": {
     "base_uri": "https://localhost:8080/"
    },
    "id": "bY8MPDgrou5t",
    "outputId": "6a856bfd-6451-4a27-9436-3c508fe82ff3"
   },
   "outputs": [
    {
     "name": "stdout",
     "output_type": "stream",
     "text": [
      "Training set shape: (31458, 7)\n",
      "Validation set shape: (13482, 7)\n"
     ]
    }
   ],
   "source": [
    "print(\"Training set shape:\", train_df.shape)\n",
    "print(\"Validation set shape:\", val_df.shape)"
   ]
  },
  {
   "cell_type": "markdown",
   "metadata": {
    "id": "_7Un1AElJrF2"
   },
   "source": [
    "## **4.** Exploratory Data Analysis on Training Data  <font color = red>[40 marks]</font> <br>\n",
    "\n",
    "Perform EDA on cleaned and preprocessed texts to get familiar with the training data by performing the tasks given below:\n",
    "\n",
    "<ul>\n",
    "  <li> Visualise the training data according to the character length of cleaned news text and lemmatized news text with POS tags removed\n",
    "  <li> Using a word cloud, find the top 40 words by frequency in true and fake news separately\n",
    "  <li> Find the top unigrams, bigrams and trigrams by frequency in true and fake news separately\n",
    "</ul>\n",
    "\n",
    "\n",
    "\n"
   ]
  },
  {
   "cell_type": "markdown",
   "metadata": {
    "id": "rOZ7yZ4Fp1cp"
   },
   "source": [
    "### **4.1** Visualise character lengths of cleaned news text and lemmatized news text with POS tags removed  <font color = red>[10 marks]</font> <br>\n",
    "\n"
   ]
  },
  {
   "cell_type": "markdown",
   "metadata": {
    "id": "UCI4DbZWpQ7n"
   },
   "source": [
    "##### 4.1.1  Add new columns to calculate the character lengths of the processed data columns  <font color = red>[3 marks]</font> <br>\n",
    "\n"
   ]
  },
  {
   "cell_type": "code",
   "execution_count": 67,
   "metadata": {
    "id": "HifHm5rxpaxZ"
   },
   "outputs": [],
   "source": [
    "# Add a new column to calculate the character length of cleaned news text\n",
    "df_clean[\"char_length\"] = df_clean[\"cleaned_text\"].str.len()\n",
    "\n",
    "# Add a new column to calculate the character length of lemmatized news text with POS tags removed\n",
    "df_clean[\"lemmatized_char_length\"] = df_clean[\"lemmatized_text\"].str.len()"
   ]
  },
  {
   "cell_type": "markdown",
   "metadata": {
    "id": "U1JvT8lNpbFe"
   },
   "source": [
    "##### 4.1.2  Create Histogram to visualise character lengths  <font color = red>[7 marks]</font> <br>\n",
    "\n",
    " Plot both distributions on the same graph for comparison and to observe overlaps and peak differences to understand text preprocessing's impact on text length."
   ]
  },
  {
   "cell_type": "code",
   "execution_count": null,
   "metadata": {
    "colab": {
     "base_uri": "https://localhost:8080/",
     "height": 1000
    },
    "id": "GAGyDEcvAoPz",
    "outputId": "0e0bfaf5-d075-4462-8e8b-3ec1a0638b05"
   },
   "outputs": [],
   "source": [
    "# Combined histogram for cleaned text with hue by news_label\n",
    "plt.figure(figsize=(10,6))\n",
    "plt.hist(df_clean[df_clean[\"news_label\"] == 0][\"char_length\"], bins=50, alpha=0.6, color=\"red\", label=\"Fake News (Cleaned)\")\n",
    "plt.hist(df_clean[df_clean[\"news_label\"] == 1][\"char_length\"], bins=50, alpha=0.6, color=\"blue\", label=\"True News (Cleaned)\")\n",
    "plt.title(\"Histogram of Character Lengths (Cleaned Text) by News Type\", fontsize=14)\n",
    "plt.xlabel(\"Character Length\", fontsize=12)\n",
    "plt.ylabel(\"Frequency\", fontsize=12)\n",
    "plt.legend()\n",
    "plt.show()\n",
    "\n",
    "# Combined histogram for lemmatized text with hue by news_label\n",
    "plt.figure(figsize=(10,6))\n",
    "plt.hist(df_clean[df_clean[\"news_label\"] == 0][\"lemmatized_char_length\"], bins=50, alpha=0.6, color=\"red\", label=\"Fake News (Lemmatized)\")\n",
    "plt.hist(df_clean[df_clean[\"news_label\"] == 1][\"lemmatized_char_length\"], bins=50, alpha=0.6, color=\"blue\", label=\"True News (Lemmatized)\")\n",
    "plt.title(\"Histogram of Character Lengths (Lemmatized Text) by News Type\", fontsize=14)\n",
    "plt.xlabel(\"Character Length\", fontsize=12)\n",
    "plt.ylabel(\"Frequency\", fontsize=12)\n",
    "plt.legend()\n",
    "plt.show()"
   ]
  },
  {
   "cell_type": "code",
   "execution_count": null,
   "metadata": {
    "colab": {
     "base_uri": "https://localhost:8080/",
     "height": 1000
    },
    "id": "q-zaqJF6JrF2",
    "outputId": "d975462a-69e0-44dc-fcea-8a745e14e272"
   },
   "outputs": [],
   "source": [
    "# Create a histogram plot to visualise character lengths\n",
    "plt.figure(figsize=(10,6))\n",
    "\n",
    "plt.hist(df_clean[\"char_length\"], bins=50, alpha=0.6, label=\"Cleaned Text\")\n",
    "plt.hist(df_clean[\"lemmatized_char_length\"], bins=50, alpha=0.6, label=\"Lemmatized Text\")\n",
    "\n",
    "plt.title(\"Histogram of Character Lengths\", fontsize=14)\n",
    "plt.xlabel(\"Character Length\", fontsize=12)\n",
    "plt.ylabel(\"Frequency\", fontsize=12)\n",
    "plt.legend()\n",
    "plt.show()\n",
    "# Add histogram for cleaned news text\n",
    "plt.figure(figsize=(8,5))\n",
    "plt.hist(df_clean[\"char_length\"], bins=50, color=\"skyblue\", edgecolor=\"black\")\n",
    "plt.title(\"Histogram of Character Lengths - Cleaned News Text\", fontsize=14)\n",
    "plt.xlabel(\"Character Length\", fontsize=12)\n",
    "plt.ylabel(\"Frequency\", fontsize=12)\n",
    "plt.show()\n",
    "# Add histogram for lemmatized news text with POS tags removed\n",
    "plt.figure(figsize=(8,5))\n",
    "plt.hist(df_clean[\"lemmatized_char_length\"], bins=50, color=\"lightgreen\", edgecolor=\"black\")\n",
    "plt.title(\"Histogram of Character Lengths - Lemmatized News Text\", fontsize=14)\n",
    "plt.xlabel(\"Character Length\", fontsize=12)\n",
    "plt.ylabel(\"Frequency\", fontsize=12)\n",
    "plt.show()"
   ]
  },
  {
   "cell_type": "code",
   "execution_count": null,
   "metadata": {
    "colab": {
     "base_uri": "https://localhost:8080/"
    },
    "id": "5ZGCeecz-vKD",
    "outputId": "743e57cd-7886-4c3c-f88d-5d8eb41b4a74"
   },
   "outputs": [],
   "source": [
    "!pip install wordcloud"
   ]
  },
  {
   "cell_type": "markdown",
   "metadata": {
    "id": "T9jD_6SeJrF3"
   },
   "source": [
    "### **4.2** Find and display the top 40 words by frequency among true and fake news in Training data after processing the text  <font color = red>[10 marks]</font> <br>\n",
    "\n"
   ]
  },
  {
   "cell_type": "markdown",
   "metadata": {
    "id": "n320yzDiEUH4"
   },
   "source": [
    "##### 4.2.1 Find and display the top 40 words by frequency among true news in Training data after processing the text  <font color = red>[5 marks]</font> <br>"
   ]
  },
  {
   "cell_type": "code",
   "execution_count": null,
   "metadata": {
    "colab": {
     "base_uri": "https://localhost:8080/",
     "height": 619
    },
    "id": "QcfdvtfZJrF3",
    "outputId": "0ed371f0-dc70-461c-c718-f6fc98f20771"
   },
   "outputs": [],
   "source": [
    "## Use a word cloud find the top 40 words by frequency among true news in the training data after processing the text\n",
    "from wordcloud import WordCloud\n",
    "# Filter news with label 1 (True News) and convert to it string and handle any non-string values\n",
    "true_train = train_df[train_df[\"news_label\"] == 1]\n",
    "true_train_text = \" \".join(true_train[\"lemmatized_text\"].dropna().astype(str))\n",
    "\n",
    "# Generate word cloud for True News\n",
    "wordcloud_true = WordCloud(width=1000,\n",
    "                      height=600,\n",
    "                      background_color=\"white\",\n",
    "                      max_words=40,\n",
    "                      colormap=\"viridis\").generate(true_train_text)\n",
    "\n",
    "# Plot word cloud\n",
    "plt.figure(figsize=(12, 8))\n",
    "plt.imshow(wordcloud_true, interpolation=\"bilinear\")\n",
    "plt.axis(\"off\")\n",
    "plt.title(\"Top 40 Words in True News (After Processing)\", fontsize=16)\n",
    "plt.show()"
   ]
  },
  {
   "cell_type": "markdown",
   "metadata": {
    "id": "LbHtjWzbEj__"
   },
   "source": [
    "##### 4.2.2 Find and display the top 40 words by frequency among fake news in Training data after processing the text  <font color = red>[5 marks]</font> <br>"
   ]
  },
  {
   "cell_type": "code",
   "execution_count": null,
   "metadata": {
    "colab": {
     "base_uri": "https://localhost:8080/",
     "height": 619
    },
    "id": "MOFoDEscEkMO",
    "outputId": "d6520f4c-40f5-433d-8077-63e50eda2326"
   },
   "outputs": [],
   "source": [
    "## Use a word cloud find the top 40 words by frequency among fake news in the training data after processing the text\n",
    "\n",
    "# Filter news with label 0 (Fake News) and convert to it string and handle any non-string values\n",
    "fake_train = train_df[train_df[\"news_label\"] == 0]\n",
    "fake_train_text = \" \".join(fake_train[\"lemmatized_text\"].dropna().astype(str))\n",
    "\n",
    "# Generate word cloud for Fake News\n",
    "wordcloud_fake = WordCloud(width=1000,\n",
    "                           height=600,\n",
    "                           background_color=\"white\",\n",
    "                           max_words=40,\n",
    "                           colormap=\"magma\").generate(fake_train_text)\n",
    "\n",
    "# Plot\n",
    "plt.figure(figsize=(12, 8))\n",
    "plt.imshow(wordcloud_fake, interpolation=\"bilinear\")\n",
    "plt.axis(\"off\")\n",
    "plt.title(\"Top 40 Words in Fake News (After Processing)\", fontsize=16)\n",
    "plt.show()"
   ]
  },
  {
   "cell_type": "markdown",
   "metadata": {
    "id": "5DfCSbbmJrF4"
   },
   "source": [
    "### **4.3** Find and display the top unigrams, bigrams and trigrams by frequency in true news and fake news after processing the text  <font color = red>[20 marks]</font> <br>\n",
    "\n",
    "\n"
   ]
  },
  {
   "cell_type": "markdown",
   "metadata": {
    "id": "ApGagSppsAyL"
   },
   "source": [
    "##### 4.3.1 Write a function to get the specified top n-grams  <font color = red>[4 marks]</font> <br>\n",
    "\n"
   ]
  },
  {
   "cell_type": "code",
   "execution_count": null,
   "metadata": {
    "id": "5mbk5DS5JrF4"
   },
   "outputs": [],
   "source": [
    "# Write a function to get the specified top n-grams\n",
    "from sklearn.feature_extraction.text import CountVectorizer\n",
    "def get_top_ngrams(corpus, n=20, ngram_range=(1,2)):\n",
    "    # If input is a single string, convert to list\n",
    "    if isinstance(corpus, str):\n",
    "        corpus = [corpus]\n",
    "\n",
    "    # Initialize CountVectorizer\n",
    "    vectorizer = CountVectorizer(ngram_range=ngram_range)\n",
    "    X = vectorizer.fit_transform(corpus)\n",
    "\n",
    "    # Sum up counts of each n-gram\n",
    "    freqs = X.sum(axis=0)\n",
    "    freqs = freqs.A1  # convert to 1D array\n",
    "\n",
    "    # Map n-grams to their frequencies\n",
    "    ngrams_freq = dict(zip(vectorizer.get_feature_names_out(), freqs))\n",
    "\n",
    "    # Create DataFrame sorted by frequency\n",
    "    top_ngrams_df = pd.DataFrame(ngrams_freq.items(), columns=[\"ngram\", \"frequency\"])\n",
    "    top_ngrams_df = top_ngrams_df.sort_values(by=\"frequency\", ascending=False).head(n)\n",
    "\n",
    "    return top_ngrams_df"
   ]
  },
  {
   "cell_type": "markdown",
   "metadata": {
    "id": "ZHcBL7vRsM4I"
   },
   "source": [
    "##### 4.3.2 Handle the NaN values  <font color = red>[1 mark]</font> <br>\n",
    "\n"
   ]
  },
  {
   "cell_type": "code",
   "execution_count": null,
   "metadata": {
    "id": "3Ks69UQGCXpw"
   },
   "outputs": [],
   "source": [
    "# Handle NaN values in the text data\n",
    "# Replace NaN in 'lemmatized_text' with empty string\n",
    "df_clean['lemmatized_text'] = df_clean['lemmatized_text'].dropna()\n",
    "#df_clean['lemmatized_text'] = df_clean['lemmatized_text'].fillna(\"missing_text\")"
   ]
  },
  {
   "cell_type": "code",
   "execution_count": null,
   "metadata": {
    "colab": {
     "base_uri": "https://localhost:8080/"
    },
    "id": "BSQ5HPRDzdsm",
    "outputId": "d6067706-e1d1-4092-de8e-a3de6bbe5cea"
   },
   "outputs": [],
   "source": [
    "df_clean.info()"
   ]
  },
  {
   "cell_type": "markdown",
   "metadata": {
    "id": "caioIgIEsfh2"
   },
   "source": [
    "### For True News\n",
    "\n",
    "\n"
   ]
  },
  {
   "cell_type": "markdown",
   "metadata": {
    "id": "QYB2ZXZ83fjo"
   },
   "source": [
    "##### 4.3.3 Display the top 10 unigrams by frequency in true news and plot them as a bar graph  <font color = red>[2.5 marks]</font> <br>"
   ]
  },
  {
   "cell_type": "code",
   "execution_count": null,
   "metadata": {
    "colab": {
     "base_uri": "https://localhost:8080/",
     "height": 825
    },
    "id": "YX7fedm1JrF8",
    "outputId": "7d670ca4-d2f3-4372-fa1b-318ff1d0b5a3"
   },
   "outputs": [],
   "source": [
    "# Print the top 10 unigrams by frequency in true news and plot the same using a bar graph\n",
    "top_true_unigrams = get_top_ngrams(true_train_text, n=10, ngram_range=(1,1))\n",
    "print(top_true_unigrams)\n",
    "\n",
    "plt.figure(figsize=(10,6))\n",
    "plt.bar(top_true_unigrams[\"ngram\"], top_true_unigrams[\"frequency\"], color=\"skyblue\")\n",
    "plt.title(\"Top 10 Unigrams in True News (Training Data)\", fontsize=14)\n",
    "plt.xlabel(\"Unigrams\", fontsize=12)\n",
    "plt.ylabel(\"Frequency\", fontsize=12)\n",
    "plt.xticks(rotation=45)\n",
    "plt.show()"
   ]
  },
  {
   "cell_type": "markdown",
   "metadata": {
    "id": "y3Q7wQnnsvOE"
   },
   "source": [
    "##### 4.3.4 Display the top 10 bigrams by frequency in true news and plot them as a bar graph  <font color = red>[2.5 marks]</font> <br>\n",
    "\n"
   ]
  },
  {
   "cell_type": "code",
   "execution_count": null,
   "metadata": {
    "colab": {
     "base_uri": "https://localhost:8080/",
     "height": 869
    },
    "id": "aV7kD7w8JrF8",
    "outputId": "b9472374-f25d-46c8-fd26-0c7f6d30211b"
   },
   "outputs": [],
   "source": [
    "# Print the top 10 bigrams by frequency in true news and plot the same using a bar graph\n",
    "top_true_bigrams = get_top_ngrams(true_train_text, n=10, ngram_range=(2,2))\n",
    "print(top_true_bigrams)\n",
    "\n",
    "plt.figure(figsize=(12,6))\n",
    "plt.bar(top_true_bigrams[\"ngram\"], top_true_bigrams[\"frequency\"], color=\"lightgreen\")\n",
    "plt.title(\"Top 10 Bigrams in True News (Training Data)\", fontsize=14)\n",
    "plt.xlabel(\"Bigrams\", fontsize=12)\n",
    "plt.ylabel(\"Frequency\", fontsize=12)\n",
    "plt.xticks(rotation=45, ha=\"right\")\n",
    "plt.show()"
   ]
  },
  {
   "cell_type": "markdown",
   "metadata": {
    "id": "opdM04-Bs_Bg"
   },
   "source": [
    "##### 4.3.5 Display the top 10 trigrams by frequency in true news and plot them as a bar graph  <font color = red>[2.5 marks]</font> <br>\n",
    "\n"
   ]
  },
  {
   "cell_type": "code",
   "execution_count": null,
   "metadata": {
    "colab": {
     "base_uri": "https://localhost:8080/",
     "height": 868
    },
    "id": "Xkh7vtbtJrF-",
    "outputId": "936b16b7-7968-4825-8fba-4c2249ac8221"
   },
   "outputs": [],
   "source": [
    "# Print the top 10 trigrams by frequency in true news and plot the same using a bar graph\n",
    "top_true_trigrams = get_top_ngrams(true_train_text, n=10, ngram_range=(3,3))\n",
    "print(top_true_trigrams)\n",
    "\n",
    "plt.figure(figsize=(14,6))\n",
    "plt.bar(top_true_trigrams[\"ngram\"], top_true_trigrams[\"frequency\"], color=\"salmon\")\n",
    "plt.title(\"Top 10 Trigrams in True News (Training Data)\", fontsize=14)\n",
    "plt.xlabel(\"Trigrams\", fontsize=12)\n",
    "plt.ylabel(\"Frequency\", fontsize=12)\n",
    "plt.xticks(rotation=45, ha=\"right\")\n",
    "plt.show()"
   ]
  },
  {
   "cell_type": "markdown",
   "metadata": {
    "id": "prNx2Sm0WGEj"
   },
   "source": [
    "### For Fake News\n",
    "\n",
    "\n",
    "\n",
    "\n",
    "\n"
   ]
  },
  {
   "cell_type": "markdown",
   "metadata": {
    "id": "obBKlBVK3mfX"
   },
   "source": [
    "##### 4.3.6 Display the top 10 unigrams by frequency in fake news and plot them as a bar graph  <font color = red>[2.5 marks]</font> <br>"
   ]
  },
  {
   "cell_type": "code",
   "execution_count": null,
   "metadata": {
    "colab": {
     "base_uri": "https://localhost:8080/",
     "height": 811
    },
    "id": "1qKDzoSIWGXp",
    "outputId": "b9cbe994-284d-4a1c-d081-f4295bfe4916"
   },
   "outputs": [],
   "source": [
    "# Print the top 10 unigrams by frequency in fake news and plot the same using a bar graph\n",
    "top_fake_unigrams = get_top_ngrams(fake_train_text, n=10, ngram_range=(1,1))\n",
    "print(top_fake_unigrams)\n",
    "\n",
    "plt.figure(figsize=(10,6))\n",
    "plt.bar(top_fake_unigrams[\"ngram\"], top_fake_unigrams[\"frequency\"], color=\"orange\")\n",
    "plt.title(\"Top 10 Unigrams in Fake News (Training Data)\", fontsize=14)\n",
    "plt.xlabel(\"Unigrams\", fontsize=12)\n",
    "plt.ylabel(\"Frequency\", fontsize=12)\n",
    "plt.xticks(rotation=45)\n",
    "plt.show()"
   ]
  },
  {
   "cell_type": "markdown",
   "metadata": {
    "id": "bSlMnmqcYsNw"
   },
   "source": [
    "##### 4.3.7 Display the top 10 bigrams by frequency in fake news and plot them as a bar graph  <font color = red>[2.5 marks]</font> <br>\n",
    "\n"
   ]
  },
  {
   "cell_type": "code",
   "execution_count": null,
   "metadata": {
    "colab": {
     "base_uri": "https://localhost:8080/",
     "height": 880
    },
    "id": "r5xUk_r9Wa0f",
    "outputId": "61e23eac-73cd-4cef-e16b-78c2fb56cf01"
   },
   "outputs": [],
   "source": [
    "# Print the top 10 bigrams by frequency in fake news and plot the same using a bar graph\n",
    "top_fake_bigrams = get_top_ngrams(fake_train_text, n=10, ngram_range=(2,2))\n",
    "print(top_fake_bigrams)\n",
    "\n",
    "plt.figure(figsize=(12,6))\n",
    "plt.bar(top_fake_bigrams[\"ngram\"], top_fake_bigrams[\"frequency\"], color=\"lightcoral\")\n",
    "plt.title(\"Top 10 Bigrams in Fake News (Training Data)\", fontsize=14)\n",
    "plt.xlabel(\"Bigrams\", fontsize=12)\n",
    "plt.ylabel(\"Frequency\", fontsize=12)\n",
    "plt.xticks(rotation=45, ha=\"right\")\n",
    "plt.show()"
   ]
  },
  {
   "cell_type": "markdown",
   "metadata": {
    "id": "i08WYIwPYs6R"
   },
   "source": [
    "##### 4.3.8 Display the top 10 trigrams by frequency in fake news and plot them as a bar graph  <font color = red>[2.5 marks]</font> <br>\n",
    "\n"
   ]
  },
  {
   "cell_type": "code",
   "execution_count": null,
   "metadata": {
    "colab": {
     "base_uri": "https://localhost:8080/",
     "height": 882
    },
    "id": "6nT9a1EvWa-s",
    "outputId": "11310719-0caf-401c-a7df-990d7408669b"
   },
   "outputs": [],
   "source": [
    "# Print the top 10 trigrams by frequency in fake news and plot the same using a bar graph\n",
    "top_fake_trigrams = get_top_ngrams(fake_train_text, n=10, ngram_range=(3,3))\n",
    "print(top_fake_trigrams)\n",
    "\n",
    "plt.figure(figsize=(14,6))\n",
    "plt.bar(top_fake_trigrams[\"ngram\"], top_fake_trigrams[\"frequency\"], color=\"mediumseagreen\")\n",
    "plt.title(\"Top 10 Trigrams in Fake News (Training Data)\", fontsize=14)\n",
    "plt.xlabel(\"Trigrams\", fontsize=12)\n",
    "plt.ylabel(\"Frequency\", fontsize=12)\n",
    "plt.xticks(rotation=45, ha=\"right\")\n",
    "plt.show()"
   ]
  },
  {
   "cell_type": "markdown",
   "metadata": {
    "id": "2VsOO_oHN8-_"
   },
   "source": [
    "## **5.** Exploratory Data Analysis on Validation Data [Optional]\n",
    "\n",
    "Perform EDA on validation data to differentiate EDA on training data with EDA on validation data and the tasks are given below:\n",
    "\n",
    "<ul>\n",
    "  <li> Visualise the data according to the character length of cleaned news text and lemmatized text with POS tags removed\n",
    "  <li> Using a word cloud find the top 40 words by frequency in true and fake news separately\n",
    "  <li> Find the top unigrams, bigrams and trigrams by frequency in true and fake news separately\n",
    "</ul>\n",
    "\n",
    "\n",
    "\n"
   ]
  },
  {
   "cell_type": "markdown",
   "metadata": {
    "id": "jNkif5wrONfI"
   },
   "source": [
    "### **5.1** Visualise character lengths of cleaned news text and lemmatized news text with POS tags removed"
   ]
  },
  {
   "cell_type": "markdown",
   "metadata": {
    "id": "gAhwSWBWOTIj"
   },
   "source": [
    "##### 5.1.1  Add new columns to calculate the character lengths of the processed data columns"
   ]
  },
  {
   "cell_type": "code",
   "execution_count": null,
   "metadata": {
    "id": "6hYYTrdHORAs"
   },
   "outputs": [],
   "source": [
    "# Add a new column to calculate the character length of cleaned news text\n",
    "\n",
    "# Add a new column to calculate the character length of lemmatized news text with POS tags removed\n"
   ]
  },
  {
   "cell_type": "markdown",
   "metadata": {
    "id": "VRILiD8hOX5q"
   },
   "source": [
    "##### 5.1.2  Create Histogram to visualise character lengths\n",
    "\n",
    "Plot both distributions on the same graph for comparison and to observe overlaps and peak differences to understand text preprocessing's impact on text length."
   ]
  },
  {
   "cell_type": "code",
   "execution_count": null,
   "metadata": {
    "id": "j7LLOXC0Oaix"
   },
   "outputs": [],
   "source": [
    "# Create a histogram plot to visualise character lengths\n",
    "\n",
    "# Add histogram for cleaned news text\n",
    "\n",
    "# Add histogram for lemmatized news text with POS tags removed\n"
   ]
  },
  {
   "cell_type": "markdown",
   "metadata": {
    "id": "nPxa0JrvOwFu"
   },
   "source": [
    "### **5.2** Find and display the top 40 words by frequency among true and fake news after processing the text"
   ]
  },
  {
   "cell_type": "markdown",
   "metadata": {
    "id": "uOZRD8vaFt2h"
   },
   "source": [
    "##### 5.2.1  Find and display the top 40 words by frequency among true news in validation data after processing the text"
   ]
  },
  {
   "cell_type": "code",
   "execution_count": null,
   "metadata": {
    "id": "6_9UVs4WOw0_"
   },
   "outputs": [],
   "source": [
    "## Use a word cloud find the top 40 words by frequency among true news after processing the text\n",
    "\n",
    "# Generate word cloud for True News\n"
   ]
  },
  {
   "cell_type": "markdown",
   "metadata": {
    "id": "T6AQPITsFuop"
   },
   "source": [
    "##### 5.2.2  Find and display the top 40 words by frequency among fake news in validation data after processing the text"
   ]
  },
  {
   "cell_type": "code",
   "execution_count": null,
   "metadata": {
    "id": "4gk6xTdSFu1X"
   },
   "outputs": [],
   "source": [
    "## Use a word cloud find the top 40 words by frequency among fake news after processing the text\n",
    "\n",
    "# Generate word cloud for Fake News\n"
   ]
  },
  {
   "cell_type": "markdown",
   "metadata": {
    "id": "dx0s2a7xOxKf"
   },
   "source": [
    "### **5.3** Find and display the top unigrams, bigrams and trigrams by frequency in true news and fake news after processing the text  \n",
    "\n",
    "\n",
    "\n"
   ]
  },
  {
   "cell_type": "markdown",
   "metadata": {
    "id": "z2xZKU0RO5ft"
   },
   "source": [
    "##### 5.3.1 Write a function to get the specified top n-grams"
   ]
  },
  {
   "cell_type": "code",
   "execution_count": null,
   "metadata": {
    "id": "g70ZFxcoOxS2"
   },
   "outputs": [],
   "source": [
    "## Write a function to get the specified top n-grams\n"
   ]
  },
  {
   "cell_type": "markdown",
   "metadata": {
    "id": "k8ud5-r7O7ut"
   },
   "source": [
    "##### 5.3.2 Handle the NaN values"
   ]
  },
  {
   "cell_type": "code",
   "execution_count": null,
   "metadata": {
    "id": "vsBu-aotPBJF"
   },
   "outputs": [],
   "source": [
    "## First handle NaN values in the text data\n"
   ]
  },
  {
   "cell_type": "markdown",
   "metadata": {
    "id": "0KVWcxoDPAiE"
   },
   "source": [
    "### For True News\n"
   ]
  },
  {
   "cell_type": "markdown",
   "metadata": {
    "id": "Am3uuIlU4wj1"
   },
   "source": [
    "\n",
    "##### 5.3.3 Display the top 10 unigrams by frequency in true news and plot them as a bar graph"
   ]
  },
  {
   "cell_type": "code",
   "execution_count": null,
   "metadata": {
    "id": "HKdpz-XmPGHD"
   },
   "outputs": [],
   "source": [
    "## Print the top 10 unigrams by frequency in true news and plot the same using a bar graph\n"
   ]
  },
  {
   "cell_type": "markdown",
   "metadata": {
    "id": "kiKrOL8rPLAs"
   },
   "source": [
    "##### 5.3.4 Display the top 10 bigrams by frequency in true news and plot them as a bar graph"
   ]
  },
  {
   "cell_type": "code",
   "execution_count": null,
   "metadata": {
    "id": "iuyYGnaNPLwq"
   },
   "outputs": [],
   "source": [
    "## Print the top 10 bigrams by frequency in true news and plot the same using a bar graph\n"
   ]
  },
  {
   "cell_type": "markdown",
   "metadata": {
    "id": "9f8_h-BiPOKb"
   },
   "source": [
    "##### 5.3.5 Display the top 10 trigrams by frequency in true news and plot them as a bar graph"
   ]
  },
  {
   "cell_type": "code",
   "execution_count": null,
   "metadata": {
    "id": "8lz-XS7qPQZj"
   },
   "outputs": [],
   "source": [
    "## Print the top 10 trigrams by frequency in true news and plot the same using a bar graph\n"
   ]
  },
  {
   "cell_type": "markdown",
   "metadata": {
    "id": "7MfApeGrd6Fl"
   },
   "source": [
    "### For Fake News"
   ]
  },
  {
   "cell_type": "markdown",
   "metadata": {
    "id": "_CH1csmZeGqh"
   },
   "source": [
    "##### 5.3.6 Display the top 10 unigrams by frequency in fake news and plot them as a bar graph"
   ]
  },
  {
   "cell_type": "code",
   "execution_count": null,
   "metadata": {
    "id": "w310WzGAeG4K"
   },
   "outputs": [],
   "source": [
    "## Print the top 10 unigrams by frequency in fake news and plot the same using a bar graph\n"
   ]
  },
  {
   "cell_type": "markdown",
   "metadata": {
    "id": "yFjOaPx7eHFw"
   },
   "source": [
    "##### 5.3.7 Display the top 10 bigrams by frequency in fake news and plot them as a bar graph"
   ]
  },
  {
   "cell_type": "code",
   "execution_count": null,
   "metadata": {
    "id": "ZuTqnjkIeHSJ"
   },
   "outputs": [],
   "source": [
    "## Print the top 10 bigrams by frequency in fake news and plot the same using a bar graph\n"
   ]
  },
  {
   "cell_type": "markdown",
   "metadata": {
    "id": "Vn_oiixheHf_"
   },
   "source": [
    "##### 5.3.8 Display the top 10 trigrams by frequency in fake news and plot them as a bar graph"
   ]
  },
  {
   "cell_type": "code",
   "execution_count": null,
   "metadata": {
    "id": "xduyO4gheHtI"
   },
   "outputs": [],
   "source": [
    "## Print the top 10 trigrams by frequency in fake news and plot the same using a bar graph\n"
   ]
  },
  {
   "cell_type": "markdown",
   "metadata": {
    "id": "k-I0k0QtJrGA"
   },
   "source": [
    "## **6.** Feature Extraction  <font color = red>[10 marks]</font> <br>\n",
    "\n",
    "For any ML model to perform classification on textual data, you need to convert it to a vector form. In this assignment, you will use the Word2Vec Vectorizer to create vectors from textual data. Word2Vec model captures the semantic relationship between words.\n"
   ]
  },
  {
   "cell_type": "markdown",
   "metadata": {
    "id": "09xy3mAbtZgZ"
   },
   "source": [
    "### **6.1** Initialise Word2Vec model  <font color = red>[2 marks]</font>"
   ]
  },
  {
   "cell_type": "code",
   "execution_count": null,
   "metadata": {
    "colab": {
     "base_uri": "https://localhost:8080/"
    },
    "id": "CirmXWOf_3wR",
    "outputId": "49bb0257-96eb-4f46-bfec-3236991b4f92"
   },
   "outputs": [],
   "source": [
    "!pip install gensim"
   ]
  },
  {
   "cell_type": "code",
   "execution_count": null,
   "metadata": {
    "id": "Y8fGwaCPJrGA",
    "scrolled": true
   },
   "outputs": [],
   "source": [
    "## Write your code here to initialise the Word2Vec model by downloading \"word2vec-google-news-300\"\n",
    "import gensim.downloader as api\n",
    "word2vec_model = api.load(\"word2vec-google-news-300\")"
   ]
  },
  {
   "cell_type": "markdown",
   "metadata": {
    "id": "yYzD85nTJrGA"
   },
   "source": [
    "### **6.2** Extract vectors for cleaned news data   <font color = red>[8 marks]</font>"
   ]
  },
  {
   "cell_type": "code",
   "execution_count": null,
   "metadata": {
    "colab": {
     "base_uri": "https://localhost:8080/"
    },
    "id": "ffzdDpp_JrGB",
    "outputId": "18ebcda1-87e9-40e5-e527-ad89e542a33c"
   },
   "outputs": [],
   "source": [
    "## Write your code here to extract the vectors from the Word2Vec model for both training and validation data\n",
    "import numpy as np\n",
    "def get_doc_vector(text, model):\n",
    "    words = text.split()\n",
    "    word_vecs = []\n",
    "\n",
    "    for word in words:\n",
    "        if word in model:\n",
    "            word_vecs.append(model[word])\n",
    "\n",
    "    if len(word_vecs) > 0:\n",
    "        return np.mean(word_vecs, axis=0)\n",
    "    else:\n",
    "        # If none of the words exist in the model, return zero vector\n",
    "        return np.zeros(model.vector_size)\n",
    "\n",
    "# ----------------------------\n",
    "# Training data vectors\n",
    "# ----------------------------\n",
    "X_train_vectors = np.array([get_doc_vector(text, word2vec_model) for text in train_df[\"lemmatized_text\"].astype(str)])\n",
    "#print(word2vec_model[\"trump\"])\n",
    "# ----------------------------\n",
    "# Validation data vectors\n",
    "# ----------------------------\n",
    "X_val_vectors = np.array([get_doc_vector(text, word2vec_model) for text in val_df[\"lemmatized_text\"].astype(str)])\n",
    "\n",
    "\n",
    "print(\"Training vectors shape:\", X_train_vectors.shape)\n",
    "print(\"Validation vectors shape:\", X_val_vectors.shape)\n",
    "\n",
    "\n",
    "## Extract the target variable for the training data and validation data\n",
    "y_train = train_df[\"news_label\"].values\n",
    "y_val = val_df[\"news_label\"].values"
   ]
  },
  {
   "cell_type": "markdown",
   "metadata": {
    "id": "7Q9lwvNEJrGB"
   },
   "source": [
    "## **7.** Model Training and Evaluation <font color = red>[45 marks]</font>\n",
    "\n",
    "You will use a set of supervised models to classify the news into true or fake."
   ]
  },
  {
   "cell_type": "markdown",
   "metadata": {
    "id": "sO16REK-xpq4"
   },
   "source": [
    "### **7.0** Import models and evaluation metrics"
   ]
  },
  {
   "cell_type": "code",
   "execution_count": null,
   "metadata": {
    "id": "k0BKoT3wxpq4"
   },
   "outputs": [],
   "source": [
    "from sklearn.linear_model import LogisticRegression\n",
    "from sklearn.tree import DecisionTreeClassifier\n",
    "from sklearn.ensemble import RandomForestClassifier\n",
    "from sklearn.metrics import accuracy_score, precision_score, recall_score, f1_score\n",
    "from sklearn.metrics import classification_report"
   ]
  },
  {
   "cell_type": "markdown",
   "metadata": {
    "id": "SLuHH1olZXQq"
   },
   "source": [
    "### **7.1** Build Logistic Regression Model  <font color = red>[15 marks]</font>"
   ]
  },
  {
   "cell_type": "markdown",
   "metadata": {
    "id": "b1ItmvvGwduv"
   },
   "source": [
    "##### 7.1.1 Create and train logistic regression model on training data  <font color = red>[10 marks]</font>"
   ]
  },
  {
   "cell_type": "code",
   "execution_count": null,
   "metadata": {
    "id": "wzXd3YSu5eyY"
   },
   "outputs": [],
   "source": [
    "## Initialise Logistic Regression model\n",
    "logreg_model = LogisticRegression(\n",
    "    solver='liblinear',   # good for binary classification\n",
    "    random_state=42\n",
    ")\n",
    "## Train Logistic Regression model on training data\n",
    "logreg_model.fit(X_train_vectors, y_train)\n",
    "## Predict on validation data\n",
    "y_val_pred = logreg_model.predict(X_val_vectors)"
   ]
  },
  {
   "cell_type": "markdown",
   "metadata": {
    "id": "BvNKC8ob8IAL"
   },
   "source": [
    "##### 7.1.2 Calculate and print accuracy, precision, recall and f1-score on validation data <font color = red>[5 marks]</font>"
   ]
  },
  {
   "cell_type": "code",
   "execution_count": null,
   "metadata": {
    "colab": {
     "base_uri": "https://localhost:8080/"
    },
    "id": "BEyQcSoWo4xs",
    "outputId": "92939ec9-c753-495f-d66b-162145c148ac"
   },
   "outputs": [],
   "source": [
    "## Calculate and print accuracy, precision, recall, f1-score on predicted labels\n",
    "\n",
    "# Accuracy\n",
    "accuracy = accuracy_score(y_val, y_val_pred)\n",
    "\n",
    "# Precision\n",
    "precision = precision_score(y_val, y_val_pred)\n",
    "\n",
    "# Recall\n",
    "recall = recall_score(y_val, y_val_pred)\n",
    "\n",
    "# F1-score\n",
    "f1 = f1_score(y_val, y_val_pred)\n",
    "\n",
    "# Print the metrics\n",
    "print(f\"Validation Accuracy : {accuracy:.4f}\")\n",
    "print(f\"Validation Precision: {precision:.4f}\")\n",
    "print(f\"Validation Recall   : {recall:.4f}\")\n",
    "print(f\"Validation F1-score : {f1:.4f}\")\n"
   ]
  },
  {
   "cell_type": "code",
   "execution_count": null,
   "metadata": {
    "colab": {
     "base_uri": "https://localhost:8080/"
    },
    "id": "T6P4MA_AC216",
    "outputId": "b94c5bf2-0aa6-4a92-ddbc-a9c7e8d4f891"
   },
   "outputs": [],
   "source": [
    "# Classification Report\n",
    "report = classification_report(y_val, y_val_pred, target_names=[\"Fake\", \"True\"])\n",
    "print(\"Classification Report:\\n\")\n",
    "print(report)"
   ]
  },
  {
   "cell_type": "markdown",
   "metadata": {
    "id": "TRGPMQZd8r8B"
   },
   "source": [
    "### **7.2** Build Decision Tree Model <font color = red>[15 marks]</font>"
   ]
  },
  {
   "cell_type": "markdown",
   "metadata": {
    "id": "Rgv4vqrt81sH"
   },
   "source": [
    "##### 7.2.1 Create and train a decision tree model on training data <font color = red>[10 marks]</font>"
   ]
  },
  {
   "cell_type": "code",
   "execution_count": null,
   "metadata": {
    "id": "i-mTab94xpq4"
   },
   "outputs": [],
   "source": [
    "## Initialise Decision Tree model\n",
    "dt_model = DecisionTreeClassifier(\n",
    "    criterion='gini',       # 'gini' or 'entropy'\n",
    "    max_depth=None,         # You can set a max depth if needed\n",
    "    random_state=42\n",
    ")\n",
    "## Train Decision Tree model on training data\n",
    "dt_model.fit(X_train_vectors, y_train)\n",
    "\n",
    "## Predict on validation data\n",
    "y_val_pred_dt = dt_model.predict(X_val_vectors)"
   ]
  },
  {
   "cell_type": "markdown",
   "metadata": {
    "id": "vZ_Vj5fs6w9I"
   },
   "source": [
    "##### 7.2.2 Calculate and print accuracy, precision, recall and f1-score on validation data <font color = red>[5 marks]</font>"
   ]
  },
  {
   "cell_type": "code",
   "execution_count": null,
   "metadata": {
    "colab": {
     "base_uri": "https://localhost:8080/"
    },
    "id": "15iYiCQhp7jo",
    "outputId": "73e613a5-e768-4824-88c6-e2f8c0670e39"
   },
   "outputs": [],
   "source": [
    "## Calculate and print accuracy, precision, recall, f1-score on predicted labels\n",
    "\n",
    "# Accuracy\n",
    "accuracy_dt = accuracy_score(y_val, y_val_pred_dt)\n",
    "\n",
    "# Precision\n",
    "precision_dt = precision_score(y_val, y_val_pred_dt)\n",
    "\n",
    "# Recall\n",
    "recall_dt = recall_score(y_val, y_val_pred_dt)\n",
    "\n",
    "# F1-score\n",
    "f1_dt = f1_score(y_val, y_val_pred_dt)\n",
    "\n",
    "# Print the metrics\n",
    "print(f\"Decision Tree Validation Accuracy : {accuracy_dt:.4f}\")\n",
    "print(f\"Decision Tree Validation Precision: {precision_dt:.4f}\")\n",
    "print(f\"Decision Tree Validation Recall   : {recall_dt:.4f}\")\n",
    "print(f\"Decision Tree Validation F1-score : {f1_dt:.4f}\")"
   ]
  },
  {
   "cell_type": "code",
   "execution_count": null,
   "metadata": {
    "colab": {
     "base_uri": "https://localhost:8080/"
    },
    "id": "DohNckxxxpq4",
    "outputId": "8fd94089-6cd3-4706-96a9-a16d8cbd27c8"
   },
   "outputs": [],
   "source": [
    "# Classification Report\n",
    "report_dt = classification_report(y_val, y_val_pred_dt, target_names=[\"Fake\", \"True\"])\n",
    "print(\"Decision Tree Classification Report:\\n\")\n",
    "print(report_dt)"
   ]
  },
  {
   "cell_type": "markdown",
   "metadata": {
    "id": "xnB_P9kd9EdC"
   },
   "source": [
    "### **7.3** Build Random Forest Model <font color = red>[15 marks]</font>\n"
   ]
  },
  {
   "cell_type": "markdown",
   "metadata": {
    "id": "DhW0nyU29In9"
   },
   "source": [
    "##### 7.3.1 Create and train a random forest model on training data <font color = red>[10 marks]</font>"
   ]
  },
  {
   "cell_type": "code",
   "execution_count": null,
   "metadata": {
    "id": "uIvY9-oPxpq4"
   },
   "outputs": [],
   "source": [
    "## Initialise Random Forest model\n",
    "rf_model = RandomForestClassifier(\n",
    "    n_estimators=100,       # Number of trees in the forest\n",
    "    criterion='gini',       # 'gini' or 'entropy'\n",
    "    max_depth=None,         # You can set a max depth if needed\n",
    "    random_state=42,\n",
    "    n_jobs=-1               # Use all available cores for faster training\n",
    ")\n",
    "## Train Random Forest model on training data\n",
    "rf_model.fit(X_train_vectors, y_train)\n",
    "## Predict on validation data\n",
    "y_val_pred_rf = rf_model.predict(X_val_vectors)"
   ]
  },
  {
   "cell_type": "markdown",
   "metadata": {
    "id": "RRBxZieM7eea"
   },
   "source": [
    " ##### 7.3.2 Calculate and print accuracy, precision, recall and f1-score on validation data <font color = red>[5 marks]</font>"
   ]
  },
  {
   "cell_type": "code",
   "execution_count": null,
   "metadata": {
    "colab": {
     "base_uri": "https://localhost:8080/"
    },
    "id": "VzNK3jcCq01-",
    "outputId": "b97d9360-6d6e-402d-dd33-a973fa884c41"
   },
   "outputs": [],
   "source": [
    "## Calculate and print accuracy, precision, recall, f1-score on predicted labels\n",
    "# Accuracy\n",
    "accuracy_rf = accuracy_score(y_val, y_val_pred_rf)\n",
    "\n",
    "# Precision\n",
    "precision_rf = precision_score(y_val, y_val_pred_rf)\n",
    "\n",
    "# Recall\n",
    "recall_rf = recall_score(y_val, y_val_pred_rf)\n",
    "\n",
    "# F1-score\n",
    "f1_rf = f1_score(y_val, y_val_pred_rf)\n",
    "\n",
    "# Print the metrics\n",
    "print(f\"Random Forest Validation Accuracy : {accuracy_rf:.4f}\")\n",
    "print(f\"Random Forest Validation Precision: {precision_rf:.4f}\")\n",
    "print(f\"Random Forest Validation Recall   : {recall_rf:.4f}\")\n",
    "print(f\"Random Forest Validation F1-score : {f1_rf:.4f}\")"
   ]
  },
  {
   "cell_type": "code",
   "execution_count": null,
   "metadata": {
    "colab": {
     "base_uri": "https://localhost:8080/"
    },
    "id": "VIBCo_kFxpq4",
    "outputId": "0a0b8133-2edf-4484-ee99-270a64153958"
   },
   "outputs": [],
   "source": [
    "# Classification Report\n",
    "report_rf = classification_report(y_val, y_val_pred_rf, target_names=[\"Fake\", \"True\"])\n",
    "print(\"Random Forest Classification Report:\\n\")\n",
    "print(report_rf)"
   ]
  },
  {
   "cell_type": "markdown",
   "metadata": {
    "id": "Lnj7RUDDSEJX"
   },
   "source": [
    "## **8.** Conclusion <font color = red>[5 marks]</font>\n",
    "\n",
    "\n",
    "In this assignment, we developed a semantic classification model using Word2Vec embeddings to detect fake news by capturing semantic relationships and contextual meanings in text, moving beyond traditional syntactic analysis. Through exploratory data analysis (EDA) on the training data, we identified distinct patterns between true and fake news articles. True news articles exhibited structured, factual language, frequently referencing locations, organizations, and verifiable events (e.g., terms like \"Reuters,\" \"government,\" and \"official\"), typically sourced from reputable outlets. Conversely, fake news articles leaned toward sensationalism, employing emotive and hyperbolic language (e.g., \"shocking,\" \"exposed,\" \"conspiracy\") with fewer named entities, emphasizing persuasion over accuracy. Bigrams and trigrams reinforced these findings: true news often included phrases like \"United States\" or \"White House,\" reflecting a geopolitical focus, while fake news featured alarmist combinations such as \"deep state\" or \"fake media.\" The Word2Vec model effectively captured these semantic nuances by vectorizing lemmatized text into a 300-dimensional space, enabling models to distinguish contextual differences that simpler bag-of-words approaches might overlook.\n",
    "\n",
    "Among the supervised models evaluated—Logistic Regression, Decision Tree, and Random Forest—Logistic Regression outperformed the others on the validation set. The F1-score was prioritized as the primary evaluation metric, as it balances precision and recall, which is critical for fake news detection to minimize both false positives (misclassifying true news as fake) and false negatives (missing fake news), both of which could undermine trust or allow misinformation to spread. The table below summarizes the performance of each model on the validation set:\n",
    "\n",
    "| Model              | Accuracy | Precision | Recall | F1-Score |\n",
    "|--------------------|----------|-----------|--------|----------|\n",
    "| Logistic Regression | 0.9337   | 0.9255    | 0.9365 | 0.9310   |\n",
    "| Decision Tree      | 0.8482   | 0.8578    | 0.8177 | 0.8373   |\n",
    "| Random Forest      | 0.9262   | 0.9288    | 0.9156 | 0.9222   |\n",
    "\n",
    "Logistic Regression achieved the highest performance with an F1-score of 0.9310, indicating robust classification capabilities. The Decision Tree model underperformed with an F1-score of 0.8373, likely due to overfitting on the high-dimensional semantic vectors. The Random Forest model showed strong performance with an F1-score of 0.9222 but was surpassed by Logistic Regression, possibly due to its higher computational complexity without proportional gains on this balanced dataset.\n",
    "\n",
    "This semantic classification approach, powered by Word2Vec, proved highly effective for fake news detection, leveraging semantic embeddings to capture meaningful patterns in text. Its impact is significant for real-world applications, such as automated content moderation on social media or verification in journalism, where scalable systems can reduce human bias and curb misinformation. However, there are opportunities for improvement, including hyperparameter tuning, exploring advanced embeddings like BERT, or addressing potential class imbalances to enhance generalization.\n",
    "\n",
    "## Pros\n",
    "- **High Accuracy**: Logistic Regression achieved a strong F1-score of 0.9310, indicating robust performance in distinguishing fake from true news.\n",
    "- **Semantic Understanding**: Word2Vec embeddings effectively captured contextual and semantic relationships, improving classification over traditional methods.\n",
    "- **Scalability**: The model can process large volumes of text, making it suitable for real-world applications like social media moderation.\n",
    "- **Balanced Metric Focus**: Prioritizing F1-score ensured a balance between precision and recall, critical for minimizing both false positives and false negatives.\n",
    "\n",
    "## Cons\n",
    "- **Overfitting Risk**: The Decision Tree model showed lower performance (F1-score: 0.8373), likely due to overfitting on high-dimensional vectors.\n",
    "- **Computational Cost**: Random Forest, while effective, required more computational resources than Logistic Regression without significant performance gains.\n",
    "- **Limited Context**: Word2Vec, while powerful, captures word-level semantics but may miss longer contextual dependencies compared to models like BERT.\n",
    "- **Potential Bias**: The model’s performance depends on the quality and representativeness of the training data, which may not fully capture evolving fake news patterns."
   ]
  },
  {
   "cell_type": "code",
   "execution_count": null,
   "metadata": {
    "id": "RDvaohdT7O0j"
   },
   "outputs": [],
   "source": []
  },
  {
   "cell_type": "code",
   "execution_count": null,
   "metadata": {},
   "outputs": [],
   "source": []
  }
 ],
 "metadata": {
  "accelerator": "GPU",
  "colab": {
   "gpuType": "T4",
   "provenance": []
  },
  "kernelspec": {
   "display_name": "Python 3 (ipykernel)",
   "language": "python",
   "name": "python3"
  },
  "language_info": {
   "codemirror_mode": {
    "name": "ipython",
    "version": 3
   },
   "file_extension": ".py",
   "mimetype": "text/x-python",
   "name": "python",
   "nbconvert_exporter": "python",
   "pygments_lexer": "ipython3",
   "version": "3.8.10"
  }
 },
 "nbformat": 4,
 "nbformat_minor": 4
}
